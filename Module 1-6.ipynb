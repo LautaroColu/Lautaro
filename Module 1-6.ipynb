{
 "cells": [
  {
   "cell_type": "markdown",
   "id": "7a3ff197",
   "metadata": {},
   "source": [
    "# ----ARITMETICA----"
   ]
  },
  {
   "cell_type": "code",
   "execution_count": 4,
   "id": "10fe09ee",
   "metadata": {},
   "outputs": [
    {
     "data": {
      "text/plain": [
       "2"
      ]
     },
     "execution_count": 4,
     "metadata": {},
     "output_type": "execute_result"
    }
   ],
   "source": [
    "1 + 2 - 1"
   ]
  },
  {
   "cell_type": "code",
   "execution_count": 5,
   "id": "6a4b0bde",
   "metadata": {},
   "outputs": [
    {
     "data": {
      "text/plain": [
       "4"
      ]
     },
     "execution_count": 5,
     "metadata": {},
     "output_type": "execute_result"
    }
   ],
   "source": [
    "2 * 2"
   ]
  },
  {
   "cell_type": "code",
   "execution_count": 6,
   "id": "a7899474",
   "metadata": {},
   "outputs": [
    {
     "data": {
      "text/plain": [
       "2.0"
      ]
     },
     "execution_count": 6,
     "metadata": {},
     "output_type": "execute_result"
    }
   ],
   "source": [
    "6 / 3"
   ]
  },
  {
   "cell_type": "code",
   "execution_count": 7,
   "id": "0dcbf412",
   "metadata": {},
   "outputs": [
    {
     "data": {
      "text/plain": [
       "1"
      ]
     },
     "execution_count": 7,
     "metadata": {},
     "output_type": "execute_result"
    }
   ],
   "source": [
    "7 % 2 # ESTO ES PARA VER SI UN NUMERO ES EVEN(PAR) or ODD(IMPAR)."
   ]
  },
  {
   "cell_type": "code",
   "execution_count": 8,
   "id": "752c3504",
   "metadata": {},
   "outputs": [
    {
     "data": {
      "text/plain": [
       "64"
      ]
     },
     "execution_count": 8,
     "metadata": {},
     "output_type": "execute_result"
    }
   ],
   "source": [
    "2 ** 6 # PARA MULTIPLICAR EL MISMO NUMERO UNA Y OTRA VEZ."
   ]
  },
  {
   "cell_type": "code",
   "execution_count": 9,
   "id": "7ee9447f",
   "metadata": {},
   "outputs": [
    {
     "data": {
      "text/plain": [
       "105"
      ]
     },
     "execution_count": 9,
     "metadata": {},
     "output_type": "execute_result"
    }
   ],
   "source": [
    "2 + 10 * 10 + 3"
   ]
  },
  {
   "cell_type": "code",
   "execution_count": 10,
   "id": "7500e770",
   "metadata": {},
   "outputs": [
    {
     "data": {
      "text/plain": [
       "156"
      ]
     },
     "execution_count": 10,
     "metadata": {},
     "output_type": "execute_result"
    }
   ],
   "source": [
    "(2+10) * (10+3)"
   ]
  },
  {
   "cell_type": "code",
   "execution_count": 11,
   "id": "ba82910a",
   "metadata": {},
   "outputs": [
    {
     "data": {
      "text/plain": [
       "0.1"
      ]
     },
     "execution_count": 11,
     "metadata": {},
     "output_type": "execute_result"
    }
   ],
   "source": [
    "1/10"
   ]
  },
  {
   "cell_type": "code",
   "execution_count": 12,
   "id": "9e65b5f4",
   "metadata": {},
   "outputs": [
    {
     "data": {
      "text/plain": [
       "10.0"
      ]
     },
     "execution_count": 12,
     "metadata": {},
     "output_type": "execute_result"
    }
   ],
   "source": [
    "100 * .1 # PARA VER EL PORCENTAJE"
   ]
  },
  {
   "cell_type": "markdown",
   "id": "fa1abb23",
   "metadata": {},
   "source": [
    "BASE 2 BINARY. ES IMPORTANTE INVESTIGAR SOBRE ESTO SI TENGO ALGUN PROBLEMA EN UN CODIGO, PUEDE AYUDAR."
   ]
  },
  {
   "cell_type": "code",
   "execution_count": null,
   "id": "26269d21",
   "metadata": {},
   "outputs": [],
   "source": []
  },
  {
   "cell_type": "markdown",
   "id": "12e7fd25",
   "metadata": {},
   "source": [
    "# ----VARIABLES----"
   ]
  },
  {
   "cell_type": "code",
   "execution_count": 13,
   "id": "4bcd61f0",
   "metadata": {},
   "outputs": [],
   "source": [
    "a = 5"
   ]
  },
  {
   "cell_type": "code",
   "execution_count": 14,
   "id": "469753c5",
   "metadata": {},
   "outputs": [
    {
     "data": {
      "text/plain": [
       "5"
      ]
     },
     "execution_count": 14,
     "metadata": {},
     "output_type": "execute_result"
    }
   ],
   "source": [
    "a"
   ]
  },
  {
   "cell_type": "code",
   "execution_count": 15,
   "id": "508de12e",
   "metadata": {},
   "outputs": [
    {
     "data": {
      "text/plain": [
       "25"
      ]
     },
     "execution_count": 15,
     "metadata": {},
     "output_type": "execute_result"
    }
   ],
   "source": [
    "a * a"
   ]
  },
  {
   "cell_type": "code",
   "execution_count": 16,
   "id": "61d7b036",
   "metadata": {},
   "outputs": [],
   "source": [
    "a = a * a"
   ]
  },
  {
   "cell_type": "code",
   "execution_count": 17,
   "id": "0379adfe",
   "metadata": {},
   "outputs": [
    {
     "data": {
      "text/plain": [
       "25"
      ]
     },
     "execution_count": 17,
     "metadata": {},
     "output_type": "execute_result"
    }
   ],
   "source": [
    "a"
   ]
  },
  {
   "cell_type": "code",
   "execution_count": 18,
   "id": "454b8c37",
   "metadata": {},
   "outputs": [
    {
     "data": {
      "text/plain": [
       "25"
      ]
     },
     "execution_count": 18,
     "metadata": {},
     "output_type": "execute_result"
    }
   ],
   "source": [
    "a"
   ]
  },
  {
   "cell_type": "code",
   "execution_count": 19,
   "id": "cb4c7dbc",
   "metadata": {},
   "outputs": [
    {
     "data": {
      "text/plain": [
       "int"
      ]
     },
     "execution_count": 19,
     "metadata": {},
     "output_type": "execute_result"
    }
   ],
   "source": [
    "type(a)"
   ]
  },
  {
   "cell_type": "code",
   "execution_count": 20,
   "id": "9e0c0dcb",
   "metadata": {},
   "outputs": [],
   "source": [
    "a = 11.1"
   ]
  },
  {
   "cell_type": "code",
   "execution_count": 21,
   "id": "5b887cd3",
   "metadata": {},
   "outputs": [
    {
     "data": {
      "text/plain": [
       "float"
      ]
     },
     "execution_count": 21,
     "metadata": {},
     "output_type": "execute_result"
    }
   ],
   "source": [
    "type(a)"
   ]
  },
  {
   "cell_type": "code",
   "execution_count": 22,
   "id": "d2ab3e40",
   "metadata": {},
   "outputs": [],
   "source": [
    "a = '11.1'"
   ]
  },
  {
   "cell_type": "code",
   "execution_count": 23,
   "id": "eb4930c4",
   "metadata": {},
   "outputs": [
    {
     "data": {
      "text/plain": [
       "'11.1'"
      ]
     },
     "execution_count": 23,
     "metadata": {},
     "output_type": "execute_result"
    }
   ],
   "source": [
    "a"
   ]
  },
  {
   "cell_type": "code",
   "execution_count": 24,
   "id": "272c8fa3",
   "metadata": {},
   "outputs": [
    {
     "data": {
      "text/plain": [
       "str"
      ]
     },
     "execution_count": 24,
     "metadata": {},
     "output_type": "execute_result"
    }
   ],
   "source": [
    "type(a)"
   ]
  },
  {
   "cell_type": "code",
   "execution_count": 25,
   "id": "870656bf",
   "metadata": {},
   "outputs": [],
   "source": [
    "my_income = 2750\n",
    "\n",
    "my_investment = 2000\n",
    "\n",
    "my_income = my_income - my_investment"
   ]
  },
  {
   "cell_type": "code",
   "execution_count": 26,
   "id": "1847124b",
   "metadata": {},
   "outputs": [
    {
     "data": {
      "text/plain": [
       "750"
      ]
     },
     "execution_count": 26,
     "metadata": {},
     "output_type": "execute_result"
    }
   ],
   "source": [
    "my_income"
   ]
  },
  {
   "cell_type": "code",
   "execution_count": null,
   "id": "946d0a6c",
   "metadata": {},
   "outputs": [],
   "source": []
  },
  {
   "cell_type": "markdown",
   "id": "afa79956",
   "metadata": {},
   "source": [
    "# ----STRINGS----"
   ]
  },
  {
   "cell_type": "code",
   "execution_count": 27,
   "id": "72800386",
   "metadata": {},
   "outputs": [
    {
     "data": {
      "text/plain": [
       "'Hello'"
      ]
     },
     "execution_count": 27,
     "metadata": {},
     "output_type": "execute_result"
    }
   ],
   "source": [
    "'Hello'"
   ]
  },
  {
   "cell_type": "code",
   "execution_count": 28,
   "id": "ae461345",
   "metadata": {},
   "outputs": [
    {
     "data": {
      "text/plain": [
       "'Hello World'"
      ]
     },
     "execution_count": 28,
     "metadata": {},
     "output_type": "execute_result"
    }
   ],
   "source": [
    "'Hello World'"
   ]
  },
  {
   "cell_type": "code",
   "execution_count": 29,
   "id": "0b6de886",
   "metadata": {},
   "outputs": [
    {
     "data": {
      "text/plain": [
       "\"I'm doing something?\""
      ]
     },
     "execution_count": 29,
     "metadata": {},
     "output_type": "execute_result"
    }
   ],
   "source": [
    "\"I'm doing something?\""
   ]
  },
  {
   "cell_type": "code",
   "execution_count": 30,
   "id": "34a2bfe3",
   "metadata": {},
   "outputs": [
    {
     "name": "stdout",
     "output_type": "stream",
     "text": [
      "Hello new world one\n"
     ]
    }
   ],
   "source": [
    "print('Hello new world one')"
   ]
  },
  {
   "cell_type": "code",
   "execution_count": 31,
   "id": "f2de2bd6",
   "metadata": {},
   "outputs": [
    {
     "name": "stdout",
     "output_type": "stream",
     "text": [
      "Hello new world one\n",
      "Hello new world two\n"
     ]
    }
   ],
   "source": [
    "print('Hello new world one')\n",
    "print('Hello new world two')"
   ]
  },
  {
   "cell_type": "code",
   "execution_count": 32,
   "id": "0f2d56c9",
   "metadata": {},
   "outputs": [
    {
     "name": "stdout",
     "output_type": "stream",
     "text": [
      "Hello \n",
      "world\n"
     ]
    }
   ],
   "source": [
    "print('Hello \\nworld')"
   ]
  },
  {
   "cell_type": "code",
   "execution_count": 33,
   "id": "6f6a35f8",
   "metadata": {},
   "outputs": [
    {
     "name": "stdout",
     "output_type": "stream",
     "text": [
      "Hello \tworld\n"
     ]
    }
   ],
   "source": [
    "print('Hello \\tworld')"
   ]
  },
  {
   "cell_type": "code",
   "execution_count": 34,
   "id": "3a82ac93",
   "metadata": {},
   "outputs": [
    {
     "data": {
      "text/plain": [
       "5"
      ]
     },
     "execution_count": 34,
     "metadata": {},
     "output_type": "execute_result"
    }
   ],
   "source": [
    "len('Hello')"
   ]
  },
  {
   "cell_type": "code",
   "execution_count": 35,
   "id": "110b63d6",
   "metadata": {},
   "outputs": [
    {
     "data": {
      "text/plain": [
       "16"
      ]
     },
     "execution_count": 35,
     "metadata": {},
     "output_type": "execute_result"
    }
   ],
   "source": [
    "len(\"I'm the best bro\")"
   ]
  },
  {
   "cell_type": "code",
   "execution_count": 36,
   "id": "0adb003c",
   "metadata": {},
   "outputs": [],
   "source": [
    "mystring = 'Hello world'"
   ]
  },
  {
   "cell_type": "code",
   "execution_count": 37,
   "id": "f62489d4",
   "metadata": {},
   "outputs": [
    {
     "data": {
      "text/plain": [
       "'Hello world'"
      ]
     },
     "execution_count": 37,
     "metadata": {},
     "output_type": "execute_result"
    }
   ],
   "source": [
    "mystring"
   ]
  },
  {
   "cell_type": "code",
   "execution_count": 38,
   "id": "a4849f48",
   "metadata": {},
   "outputs": [],
   "source": [
    "# Subtema: Indexing y Slicing "
   ]
  },
  {
   "cell_type": "code",
   "execution_count": 39,
   "id": "fbe856b9",
   "metadata": {},
   "outputs": [
    {
     "data": {
      "text/plain": [
       "'l'"
      ]
     },
     "execution_count": 39,
     "metadata": {},
     "output_type": "execute_result"
    }
   ],
   "source": [
    "mystring[2]"
   ]
  },
  {
   "cell_type": "code",
   "execution_count": 40,
   "id": "06d531b5",
   "metadata": {},
   "outputs": [
    {
     "data": {
      "text/plain": [
       "'d'"
      ]
     },
     "execution_count": 40,
     "metadata": {},
     "output_type": "execute_result"
    }
   ],
   "source": [
    "mystring[-1]"
   ]
  },
  {
   "cell_type": "code",
   "execution_count": 41,
   "id": "258cc73f",
   "metadata": {},
   "outputs": [],
   "source": [
    "mystring = 'abcdef'"
   ]
  },
  {
   "cell_type": "code",
   "execution_count": 42,
   "id": "5694dd9d",
   "metadata": {},
   "outputs": [
    {
     "data": {
      "text/plain": [
       "'ab'"
      ]
     },
     "execution_count": 42,
     "metadata": {},
     "output_type": "execute_result"
    }
   ],
   "source": [
    "mystring[:2] # EL CODIGO ES [START : STOP : STEP]"
   ]
  },
  {
   "cell_type": "code",
   "execution_count": 43,
   "id": "026a7420",
   "metadata": {},
   "outputs": [
    {
     "data": {
      "text/plain": [
       "'bc'"
      ]
     },
     "execution_count": 43,
     "metadata": {},
     "output_type": "execute_result"
    }
   ],
   "source": [
    "mystring[1:3]"
   ]
  },
  {
   "cell_type": "code",
   "execution_count": 44,
   "id": "fecb2678",
   "metadata": {},
   "outputs": [
    {
     "data": {
      "text/plain": [
       "'cde'"
      ]
     },
     "execution_count": 44,
     "metadata": {},
     "output_type": "execute_result"
    }
   ],
   "source": [
    "mystring[2:-1]"
   ]
  },
  {
   "cell_type": "code",
   "execution_count": 45,
   "id": "0c0d4ab8",
   "metadata": {},
   "outputs": [
    {
     "data": {
      "text/plain": [
       "'abcdef'"
      ]
     },
     "execution_count": 45,
     "metadata": {},
     "output_type": "execute_result"
    }
   ],
   "source": [
    "mystring[::]"
   ]
  },
  {
   "cell_type": "code",
   "execution_count": 46,
   "id": "b2899113",
   "metadata": {},
   "outputs": [
    {
     "data": {
      "text/plain": [
       "'bd'"
      ]
     },
     "execution_count": 46,
     "metadata": {},
     "output_type": "execute_result"
    }
   ],
   "source": [
    "mystring[1:4:2]"
   ]
  },
  {
   "cell_type": "code",
   "execution_count": 47,
   "id": "1a6d72a2",
   "metadata": {},
   "outputs": [
    {
     "data": {
      "text/plain": [
       "'fdb'"
      ]
     },
     "execution_count": 47,
     "metadata": {},
     "output_type": "execute_result"
    }
   ],
   "source": [
    "mystring[::-2]"
   ]
  },
  {
   "cell_type": "code",
   "execution_count": 48,
   "id": "0e0ebe42",
   "metadata": {},
   "outputs": [
    {
     "data": {
      "text/plain": [
       "'efefef'"
      ]
     },
     "execution_count": 48,
     "metadata": {},
     "output_type": "execute_result"
    }
   ],
   "source": [
    "mystring[-2:] * 3"
   ]
  },
  {
   "cell_type": "markdown",
   "id": "169d1916",
   "metadata": {},
   "source": [
    "Immutability. Las Strings no se mutan."
   ]
  },
  {
   "cell_type": "code",
   "execution_count": 49,
   "id": "f0c6cbe5",
   "metadata": {},
   "outputs": [],
   "source": [
    "name = 'Sam'"
   ]
  },
  {
   "cell_type": "code",
   "execution_count": 50,
   "id": "f9454256",
   "metadata": {},
   "outputs": [
    {
     "data": {
      "text/plain": [
       "'Sam'"
      ]
     },
     "execution_count": 50,
     "metadata": {},
     "output_type": "execute_result"
    }
   ],
   "source": [
    "name"
   ]
  },
  {
   "cell_type": "code",
   "execution_count": 51,
   "id": "73336ff1",
   "metadata": {},
   "outputs": [
    {
     "data": {
      "text/plain": [
       "'am'"
      ]
     },
     "execution_count": 51,
     "metadata": {},
     "output_type": "execute_result"
    }
   ],
   "source": [
    "name[1:]"
   ]
  },
  {
   "cell_type": "code",
   "execution_count": 52,
   "id": "5d191dcb",
   "metadata": {},
   "outputs": [],
   "source": [
    "# name[1:] = 'P '      Esto esta mal"
   ]
  },
  {
   "cell_type": "code",
   "execution_count": 53,
   "id": "8e9b4171",
   "metadata": {},
   "outputs": [],
   "source": [
    "letter = name[1:]"
   ]
  },
  {
   "cell_type": "code",
   "execution_count": 54,
   "id": "f7dcef51",
   "metadata": {},
   "outputs": [
    {
     "data": {
      "text/plain": [
       "'amSam'"
      ]
     },
     "execution_count": 54,
     "metadata": {},
     "output_type": "execute_result"
    }
   ],
   "source": [
    "letter + name"
   ]
  },
  {
   "cell_type": "code",
   "execution_count": 55,
   "id": "7b30f2d6",
   "metadata": {},
   "outputs": [
    {
     "data": {
      "text/plain": [
       "'Pam'"
      ]
     },
     "execution_count": 55,
     "metadata": {},
     "output_type": "execute_result"
    }
   ],
   "source": [
    "'P' + letter"
   ]
  },
  {
   "cell_type": "code",
   "execution_count": 56,
   "id": "b56f74dd",
   "metadata": {},
   "outputs": [],
   "source": [
    "x = 'Hello world '"
   ]
  },
  {
   "cell_type": "code",
   "execution_count": 57,
   "id": "9f7d9ebf",
   "metadata": {},
   "outputs": [],
   "source": [
    "x = x + 'Im Lau'"
   ]
  },
  {
   "cell_type": "code",
   "execution_count": 58,
   "id": "55c4f132",
   "metadata": {},
   "outputs": [
    {
     "data": {
      "text/plain": [
       "'Hello world Im Lau'"
      ]
     },
     "execution_count": 58,
     "metadata": {},
     "output_type": "execute_result"
    }
   ],
   "source": [
    "x"
   ]
  },
  {
   "cell_type": "code",
   "execution_count": 59,
   "id": "955a563d",
   "metadata": {},
   "outputs": [],
   "source": [
    "y = 'Hola mundo '"
   ]
  },
  {
   "cell_type": "code",
   "execution_count": 60,
   "id": "29bd9c28",
   "metadata": {},
   "outputs": [
    {
     "data": {
      "text/plain": [
       "'Hola mundo '"
      ]
     },
     "execution_count": 60,
     "metadata": {},
     "output_type": "execute_result"
    }
   ],
   "source": [
    "y"
   ]
  },
  {
   "cell_type": "code",
   "execution_count": 61,
   "id": "70a2b864",
   "metadata": {},
   "outputs": [],
   "source": [
    "y = y + 'soy Lau'"
   ]
  },
  {
   "cell_type": "code",
   "execution_count": 62,
   "id": "657eb9a3",
   "metadata": {},
   "outputs": [
    {
     "data": {
      "text/plain": [
       "'Hola mundo soy Lau'"
      ]
     },
     "execution_count": 62,
     "metadata": {},
     "output_type": "execute_result"
    }
   ],
   "source": [
    "y"
   ]
  },
  {
   "cell_type": "code",
   "execution_count": 63,
   "id": "fe15c690",
   "metadata": {},
   "outputs": [],
   "source": [
    "x = 'z'"
   ]
  },
  {
   "cell_type": "code",
   "execution_count": 64,
   "id": "3e4e9815",
   "metadata": {},
   "outputs": [
    {
     "data": {
      "text/plain": [
       "'zzzzzzzzzz'"
      ]
     },
     "execution_count": 64,
     "metadata": {},
     "output_type": "execute_result"
    }
   ],
   "source": [
    "x * 10"
   ]
  },
  {
   "cell_type": "code",
   "execution_count": 65,
   "id": "a0885b23",
   "metadata": {},
   "outputs": [
    {
     "data": {
      "text/plain": [
       "5"
      ]
     },
     "execution_count": 65,
     "metadata": {},
     "output_type": "execute_result"
    }
   ],
   "source": [
    "2 + 3 "
   ]
  },
  {
   "cell_type": "code",
   "execution_count": 66,
   "id": "41f447e3",
   "metadata": {},
   "outputs": [
    {
     "data": {
      "text/plain": [
       "'23'"
      ]
     },
     "execution_count": 66,
     "metadata": {},
     "output_type": "execute_result"
    }
   ],
   "source": [
    "'2' + '3'"
   ]
  },
  {
   "cell_type": "code",
   "execution_count": 67,
   "id": "58ce6e46",
   "metadata": {},
   "outputs": [],
   "source": [
    "x = 'hello world'"
   ]
  },
  {
   "cell_type": "code",
   "execution_count": 68,
   "id": "e4bfd771",
   "metadata": {},
   "outputs": [
    {
     "data": {
      "text/plain": [
       "'HELLO WORLD'"
      ]
     },
     "execution_count": 68,
     "metadata": {},
     "output_type": "execute_result"
    }
   ],
   "source": [
    "x.upper()"
   ]
  },
  {
   "cell_type": "code",
   "execution_count": 69,
   "id": "97a5a301",
   "metadata": {},
   "outputs": [
    {
     "data": {
      "text/plain": [
       "['hello', 'world']"
      ]
     },
     "execution_count": 69,
     "metadata": {},
     "output_type": "execute_result"
    }
   ],
   "source": [
    "x.split()"
   ]
  },
  {
   "cell_type": "code",
   "execution_count": 70,
   "id": "91b55297",
   "metadata": {},
   "outputs": [
    {
     "data": {
      "text/plain": [
       "['', 'ello world']"
      ]
     },
     "execution_count": 70,
     "metadata": {},
     "output_type": "execute_result"
    }
   ],
   "source": [
    "x.split('h')"
   ]
  },
  {
   "cell_type": "code",
   "execution_count": 71,
   "id": "3aeeca0e",
   "metadata": {},
   "outputs": [
    {
     "data": {
      "text/plain": [
       "'Hello world'"
      ]
     },
     "execution_count": 71,
     "metadata": {},
     "output_type": "execute_result"
    }
   ],
   "source": [
    "x.capitalize()"
   ]
  },
  {
   "cell_type": "markdown",
   "id": "7c810b33",
   "metadata": {},
   "source": [
    "# ----f-STRING---- "
   ]
  },
  {
   "cell_type": "code",
   "execution_count": 72,
   "id": "142c7329",
   "metadata": {},
   "outputs": [],
   "source": [
    "i = 'inserted'"
   ]
  },
  {
   "cell_type": "code",
   "execution_count": 73,
   "id": "faa035e4",
   "metadata": {},
   "outputs": [
    {
     "name": "stdout",
     "output_type": "stream",
     "text": [
      "This is a string inserted\n"
     ]
    }
   ],
   "source": [
    "print(f'This is a string {i}')"
   ]
  },
  {
   "cell_type": "code",
   "execution_count": 74,
   "id": "8dee21e4",
   "metadata": {},
   "outputs": [],
   "source": [
    "name = 'Lau'\n",
    "age = 25"
   ]
  },
  {
   "cell_type": "code",
   "execution_count": 75,
   "id": "687d5d42",
   "metadata": {},
   "outputs": [
    {
     "name": "stdout",
     "output_type": "stream",
     "text": [
      "Hi my name is Lau and Im 25\n"
     ]
    }
   ],
   "source": [
    "print(f'Hi my name is {name} and Im {age}')"
   ]
  },
  {
   "cell_type": "code",
   "execution_count": 76,
   "id": "c8e795c6",
   "metadata": {},
   "outputs": [],
   "source": [
    "result = 100/88"
   ]
  },
  {
   "cell_type": "code",
   "execution_count": 77,
   "id": "2d440575",
   "metadata": {},
   "outputs": [],
   "source": [
    "r = result"
   ]
  },
  {
   "cell_type": "code",
   "execution_count": 78,
   "id": "505f2012",
   "metadata": {},
   "outputs": [
    {
     "data": {
      "text/plain": [
       "1.1363636363636365"
      ]
     },
     "execution_count": 78,
     "metadata": {},
     "output_type": "execute_result"
    }
   ],
   "source": [
    "r"
   ]
  },
  {
   "cell_type": "code",
   "execution_count": 79,
   "id": "818ecae9",
   "metadata": {},
   "outputs": [
    {
     "name": "stdout",
     "output_type": "stream",
     "text": [
      "The result was 1.136\n"
     ]
    }
   ],
   "source": [
    "print(f'The result was {r:.4}')"
   ]
  },
  {
   "cell_type": "code",
   "execution_count": 80,
   "id": "07df17d6",
   "metadata": {},
   "outputs": [],
   "source": [
    "f = 'fox'\n",
    "o = 'orange'\n",
    "q = 'quick'"
   ]
  },
  {
   "cell_type": "code",
   "execution_count": 81,
   "id": "f57b75f4",
   "metadata": {},
   "outputs": [
    {
     "name": "stdout",
     "output_type": "stream",
     "text": [
      "The orange fox is quick\n"
     ]
    }
   ],
   "source": [
    "print(f'The {o} {f} is {q}') "
   ]
  },
  {
   "cell_type": "code",
   "execution_count": 82,
   "id": "dbcccca6",
   "metadata": {},
   "outputs": [],
   "source": [
    "# Otra manera de hacerlo que es una versión más vieja es: ('The {o} {f} is {q}') .format(o = 'orange' , f = 'fox' , q = 'quick')"
   ]
  },
  {
   "cell_type": "code",
   "execution_count": 83,
   "id": "3391f2bf",
   "metadata": {},
   "outputs": [
    {
     "data": {
      "text/plain": [
       "'The orange fox is quick'"
      ]
     },
     "execution_count": 83,
     "metadata": {},
     "output_type": "execute_result"
    }
   ],
   "source": [
    "('The {o} {f} is {q}') .format(o = 'orange' , f = 'fox' , q = 'quick')"
   ]
  },
  {
   "cell_type": "markdown",
   "id": "dce4dd7a",
   "metadata": {},
   "source": [
    "# ----LISTS----"
   ]
  },
  {
   "cell_type": "code",
   "execution_count": 84,
   "id": "0d751950",
   "metadata": {},
   "outputs": [],
   "source": [
    "my_list = ['one' , 'two' , 'three']"
   ]
  },
  {
   "cell_type": "code",
   "execution_count": 85,
   "id": "9b3642a8",
   "metadata": {},
   "outputs": [
    {
     "data": {
      "text/plain": [
       "['one', 'two', 'three']"
      ]
     },
     "execution_count": 85,
     "metadata": {},
     "output_type": "execute_result"
    }
   ],
   "source": [
    "my_list"
   ]
  },
  {
   "cell_type": "code",
   "execution_count": 86,
   "id": "2836b083",
   "metadata": {},
   "outputs": [
    {
     "data": {
      "text/plain": [
       "'one'"
      ]
     },
     "execution_count": 86,
     "metadata": {},
     "output_type": "execute_result"
    }
   ],
   "source": [
    "my_list[0] #TAMBIEN SE PUEDE USAR INDEXING Y SLICING EN LISTS"
   ]
  },
  {
   "cell_type": "code",
   "execution_count": 87,
   "id": "ef15985d",
   "metadata": {},
   "outputs": [
    {
     "data": {
      "text/plain": [
       "['one', 'two']"
      ]
     },
     "execution_count": 87,
     "metadata": {},
     "output_type": "execute_result"
    }
   ],
   "source": [
    "my_list[:2]"
   ]
  },
  {
   "cell_type": "code",
   "execution_count": 88,
   "id": "bc638277",
   "metadata": {},
   "outputs": [],
   "source": [
    "my_list[0] = 'ONE' # LAS LISTS SI SON MUTABLES"
   ]
  },
  {
   "cell_type": "code",
   "execution_count": 89,
   "id": "35b0559f",
   "metadata": {},
   "outputs": [
    {
     "data": {
      "text/plain": [
       "['ONE', 'two', 'three']"
      ]
     },
     "execution_count": 89,
     "metadata": {},
     "output_type": "execute_result"
    }
   ],
   "source": [
    "my_list"
   ]
  },
  {
   "cell_type": "code",
   "execution_count": 90,
   "id": "7562b588",
   "metadata": {},
   "outputs": [],
   "source": [
    "another_list = ['four' , 'five']"
   ]
  },
  {
   "cell_type": "code",
   "execution_count": 91,
   "id": "a06b0718",
   "metadata": {},
   "outputs": [],
   "source": [
    "new_list = my_list + another_list"
   ]
  },
  {
   "cell_type": "code",
   "execution_count": 92,
   "id": "7d3e4e98",
   "metadata": {},
   "outputs": [
    {
     "data": {
      "text/plain": [
       "['ONE', 'two', 'three', 'four', 'five']"
      ]
     },
     "execution_count": 92,
     "metadata": {},
     "output_type": "execute_result"
    }
   ],
   "source": [
    "new_list"
   ]
  },
  {
   "cell_type": "code",
   "execution_count": 93,
   "id": "1bd50c27",
   "metadata": {},
   "outputs": [],
   "source": [
    "new_list.append('Six')"
   ]
  },
  {
   "cell_type": "code",
   "execution_count": 94,
   "id": "708834fb",
   "metadata": {},
   "outputs": [
    {
     "data": {
      "text/plain": [
       "['ONE', 'two', 'three', 'four', 'five', 'Six']"
      ]
     },
     "execution_count": 94,
     "metadata": {},
     "output_type": "execute_result"
    }
   ],
   "source": [
    "new_list"
   ]
  },
  {
   "cell_type": "code",
   "execution_count": 95,
   "id": "6289852a",
   "metadata": {},
   "outputs": [
    {
     "data": {
      "text/plain": [
       "'Six'"
      ]
     },
     "execution_count": 95,
     "metadata": {},
     "output_type": "execute_result"
    }
   ],
   "source": [
    "new_list.pop()"
   ]
  },
  {
   "cell_type": "code",
   "execution_count": 96,
   "id": "2a3778d7",
   "metadata": {},
   "outputs": [
    {
     "data": {
      "text/plain": [
       "['ONE', 'two', 'three', 'four', 'five']"
      ]
     },
     "execution_count": 96,
     "metadata": {},
     "output_type": "execute_result"
    }
   ],
   "source": [
    "new_list"
   ]
  },
  {
   "cell_type": "code",
   "execution_count": 97,
   "id": "28408400",
   "metadata": {},
   "outputs": [],
   "source": [
    "popped_variable = new_list.pop()"
   ]
  },
  {
   "cell_type": "code",
   "execution_count": 98,
   "id": "6b6a0092",
   "metadata": {},
   "outputs": [
    {
     "name": "stdout",
     "output_type": "stream",
     "text": [
      "five\n",
      "['ONE', 'two', 'three', 'four']\n"
     ]
    }
   ],
   "source": [
    "print(popped_variable)\n",
    "print(new_list)"
   ]
  },
  {
   "cell_type": "code",
   "execution_count": 99,
   "id": "ea0b1394",
   "metadata": {},
   "outputs": [
    {
     "data": {
      "text/plain": [
       "'two'"
      ]
     },
     "execution_count": 99,
     "metadata": {},
     "output_type": "execute_result"
    }
   ],
   "source": [
    "new_list.pop(1)"
   ]
  },
  {
   "cell_type": "code",
   "execution_count": 100,
   "id": "7bf29ff8",
   "metadata": {},
   "outputs": [
    {
     "data": {
      "text/plain": [
       "['ONE', 'three', 'four']"
      ]
     },
     "execution_count": 100,
     "metadata": {},
     "output_type": "execute_result"
    }
   ],
   "source": [
    "new_list"
   ]
  },
  {
   "cell_type": "code",
   "execution_count": 101,
   "id": "c9d76a27",
   "metadata": {},
   "outputs": [],
   "source": [
    "new_list.reverse()"
   ]
  },
  {
   "cell_type": "code",
   "execution_count": 102,
   "id": "eaf321cc",
   "metadata": {},
   "outputs": [
    {
     "data": {
      "text/plain": [
       "['four', 'three', 'ONE']"
      ]
     },
     "execution_count": 102,
     "metadata": {},
     "output_type": "execute_result"
    }
   ],
   "source": [
    "new_list"
   ]
  },
  {
   "cell_type": "code",
   "execution_count": 103,
   "id": "aaba5206",
   "metadata": {},
   "outputs": [],
   "source": [
    "new_list.sort()"
   ]
  },
  {
   "cell_type": "code",
   "execution_count": 104,
   "id": "861d9caa",
   "metadata": {},
   "outputs": [
    {
     "data": {
      "text/plain": [
       "['ONE', 'four', 'three']"
      ]
     },
     "execution_count": 104,
     "metadata": {},
     "output_type": "execute_result"
    }
   ],
   "source": [
    "new_list"
   ]
  },
  {
   "cell_type": "code",
   "execution_count": 105,
   "id": "d82bf39a",
   "metadata": {},
   "outputs": [],
   "source": [
    "mylist = [1,2,3,[4,5]]"
   ]
  },
  {
   "cell_type": "code",
   "execution_count": 106,
   "id": "32694ad1",
   "metadata": {},
   "outputs": [
    {
     "data": {
      "text/plain": [
       "[1, 2, 3]"
      ]
     },
     "execution_count": 106,
     "metadata": {},
     "output_type": "execute_result"
    }
   ],
   "source": [
    "mylist[0:3]"
   ]
  },
  {
   "cell_type": "code",
   "execution_count": 107,
   "id": "1f3c403f",
   "metadata": {},
   "outputs": [
    {
     "data": {
      "text/plain": [
       "4"
      ]
     },
     "execution_count": 107,
     "metadata": {},
     "output_type": "execute_result"
    }
   ],
   "source": [
    "mylist[3][0]"
   ]
  },
  {
   "cell_type": "code",
   "execution_count": 108,
   "id": "0bab8fae",
   "metadata": {},
   "outputs": [],
   "source": [
    "list1 = [1,2,3,['hello',2],['three',4]]"
   ]
  },
  {
   "cell_type": "code",
   "execution_count": 109,
   "id": "8b80f0e4",
   "metadata": {},
   "outputs": [
    {
     "data": {
      "text/plain": [
       "'three'"
      ]
     },
     "execution_count": 109,
     "metadata": {},
     "output_type": "execute_result"
    }
   ],
   "source": [
    "list1[4][0]"
   ]
  },
  {
   "cell_type": "markdown",
   "id": "2393ce4e",
   "metadata": {},
   "source": [
    "# ----DICTIONARIES----"
   ]
  },
  {
   "cell_type": "code",
   "execution_count": 110,
   "id": "c4c91430",
   "metadata": {},
   "outputs": [],
   "source": [
    "# variable = {'key1': value, 'key2': value2, 'key3': value3}"
   ]
  },
  {
   "cell_type": "code",
   "execution_count": 111,
   "id": "07a6eedc",
   "metadata": {},
   "outputs": [],
   "source": [
    "mystore = {'Potatoes': 2.99, 'Tomatoes': 2.22, 'Chicken': 4.99}"
   ]
  },
  {
   "cell_type": "code",
   "execution_count": 112,
   "id": "b1a582bb",
   "metadata": {},
   "outputs": [
    {
     "data": {
      "text/plain": [
       "2.99"
      ]
     },
     "execution_count": 112,
     "metadata": {},
     "output_type": "execute_result"
    }
   ],
   "source": [
    "mystore['Potatoes']"
   ]
  },
  {
   "cell_type": "code",
   "execution_count": 113,
   "id": "d37af6ea",
   "metadata": {},
   "outputs": [],
   "source": [
    "letters = {'first': ['a', 'b','c']}"
   ]
  },
  {
   "cell_type": "code",
   "execution_count": 114,
   "id": "319f9397",
   "metadata": {},
   "outputs": [
    {
     "data": {
      "text/plain": [
       "'c'"
      ]
     },
     "execution_count": 114,
     "metadata": {},
     "output_type": "execute_result"
    }
   ],
   "source": [
    "letters['first'][2]"
   ]
  },
  {
   "cell_type": "code",
   "execution_count": 115,
   "id": "ee636e45",
   "metadata": {},
   "outputs": [],
   "source": [
    "new_letter = letters['first'][2].upper()"
   ]
  },
  {
   "cell_type": "code",
   "execution_count": 116,
   "id": "c808e385",
   "metadata": {},
   "outputs": [
    {
     "data": {
      "text/plain": [
       "'C'"
      ]
     },
     "execution_count": 116,
     "metadata": {},
     "output_type": "execute_result"
    }
   ],
   "source": [
    "new_letter"
   ]
  },
  {
   "cell_type": "code",
   "execution_count": 117,
   "id": "f3992403",
   "metadata": {},
   "outputs": [
    {
     "data": {
      "text/plain": [
       "{'first': ['a', 'b', 'c']}"
      ]
     },
     "execution_count": 117,
     "metadata": {},
     "output_type": "execute_result"
    }
   ],
   "source": [
    "letters"
   ]
  },
  {
   "cell_type": "code",
   "execution_count": 118,
   "id": "a3c431ca",
   "metadata": {},
   "outputs": [],
   "source": [
    "letters['second'] = ['d' , 'e']"
   ]
  },
  {
   "cell_type": "code",
   "execution_count": 119,
   "id": "64ac7373",
   "metadata": {},
   "outputs": [
    {
     "data": {
      "text/plain": [
       "{'first': ['a', 'b', 'c'], 'second': ['d', 'e']}"
      ]
     },
     "execution_count": 119,
     "metadata": {},
     "output_type": "execute_result"
    }
   ],
   "source": [
    "letters"
   ]
  },
  {
   "cell_type": "code",
   "execution_count": 120,
   "id": "7479da1e",
   "metadata": {},
   "outputs": [],
   "source": [
    "letters['first'] = ['a' , 'b'] #son mutables"
   ]
  },
  {
   "cell_type": "code",
   "execution_count": 121,
   "id": "aba3fb64",
   "metadata": {},
   "outputs": [
    {
     "data": {
      "text/plain": [
       "{'first': ['a', 'b'], 'second': ['d', 'e']}"
      ]
     },
     "execution_count": 121,
     "metadata": {},
     "output_type": "execute_result"
    }
   ],
   "source": [
    "letters"
   ]
  },
  {
   "cell_type": "code",
   "execution_count": 122,
   "id": "11236e47",
   "metadata": {},
   "outputs": [
    {
     "data": {
      "text/plain": [
       "dict_keys(['first', 'second'])"
      ]
     },
     "execution_count": 122,
     "metadata": {},
     "output_type": "execute_result"
    }
   ],
   "source": [
    "letters.keys() #SI QUERES AGARRAR LAS KEYS"
   ]
  },
  {
   "cell_type": "code",
   "execution_count": 123,
   "id": "153dbd2b",
   "metadata": {},
   "outputs": [
    {
     "data": {
      "text/plain": [
       "dict_items([('first', ['a', 'b']), ('second', ['d', 'e'])])"
      ]
     },
     "execution_count": 123,
     "metadata": {},
     "output_type": "execute_result"
    }
   ],
   "source": [
    "letters.items() #SI QUERES AGARRAR LOS ITEMS"
   ]
  },
  {
   "cell_type": "code",
   "execution_count": 124,
   "id": "1e921e2a",
   "metadata": {},
   "outputs": [
    {
     "data": {
      "text/plain": [
       "dict_values([['a', 'b'], ['d', 'e']])"
      ]
     },
     "execution_count": 124,
     "metadata": {},
     "output_type": "execute_result"
    }
   ],
   "source": [
    "letters.values() #SI QUERES AGARRAR LOS VALUES"
   ]
  },
  {
   "cell_type": "markdown",
   "id": "6f42b883",
   "metadata": {},
   "source": [
    "# ----TUPPLES----"
   ]
  },
  {
   "cell_type": "code",
   "execution_count": 125,
   "id": "293dbcae",
   "metadata": {},
   "outputs": [],
   "source": [
    "tupple = (1,2,3,5,5,5,6,'b') #TUPPLES ARE IMMUTABLE"
   ]
  },
  {
   "cell_type": "code",
   "execution_count": 126,
   "id": "87ff37ff",
   "metadata": {},
   "outputs": [
    {
     "data": {
      "text/plain": [
       "(1, 2, 3)"
      ]
     },
     "execution_count": 126,
     "metadata": {},
     "output_type": "execute_result"
    }
   ],
   "source": [
    "tupple[:3]"
   ]
  },
  {
   "cell_type": "code",
   "execution_count": 127,
   "id": "230a9945",
   "metadata": {},
   "outputs": [
    {
     "data": {
      "text/plain": [
       "7"
      ]
     },
     "execution_count": 127,
     "metadata": {},
     "output_type": "execute_result"
    }
   ],
   "source": [
    "tupple.index('b') #ESTO NOS DIRA EN QUE POSICION SE ENCUENTRA. INCLUSO SI SE REPITE, SOLO AGARRARÁ LA PRIMERA."
   ]
  },
  {
   "cell_type": "code",
   "execution_count": 128,
   "id": "cb7692a8",
   "metadata": {},
   "outputs": [
    {
     "data": {
      "text/plain": [
       "3"
      ]
     },
     "execution_count": 128,
     "metadata": {},
     "output_type": "execute_result"
    }
   ],
   "source": [
    "tupple.count(5) #ESTO NOS DIRA CUANTAS VECES SE REPITE LO QUE ESTA DENTRO DE LA TUPPLE. "
   ]
  },
  {
   "cell_type": "markdown",
   "id": "10852f36",
   "metadata": {},
   "source": [
    "# ----SETS----"
   ]
  },
  {
   "cell_type": "code",
   "execution_count": 129,
   "id": "d3d707c7",
   "metadata": {},
   "outputs": [],
   "source": [
    "mylist = set() #ES NECESARIO PARA PODER AGREGAR A LA LIST"
   ]
  },
  {
   "cell_type": "code",
   "execution_count": 130,
   "id": "d59c40f3",
   "metadata": {},
   "outputs": [],
   "source": [
    "mylist.add(1)"
   ]
  },
  {
   "cell_type": "code",
   "execution_count": 131,
   "id": "f7d90cbd",
   "metadata": {},
   "outputs": [
    {
     "data": {
      "text/plain": [
       "{1}"
      ]
     },
     "execution_count": 131,
     "metadata": {},
     "output_type": "execute_result"
    }
   ],
   "source": [
    "mylist"
   ]
  },
  {
   "cell_type": "code",
   "execution_count": 132,
   "id": "129521f0",
   "metadata": {},
   "outputs": [],
   "source": [
    "mylist.add(2)"
   ]
  },
  {
   "cell_type": "code",
   "execution_count": 133,
   "id": "2400563a",
   "metadata": {},
   "outputs": [
    {
     "data": {
      "text/plain": [
       "{1, 2}"
      ]
     },
     "execution_count": 133,
     "metadata": {},
     "output_type": "execute_result"
    }
   ],
   "source": [
    "mylist"
   ]
  },
  {
   "cell_type": "code",
   "execution_count": 134,
   "id": "78c6be3f",
   "metadata": {},
   "outputs": [],
   "source": [
    "mylist = [1,1,1,1,1,1,1,22,2,2,2,2,4,44,5,55,5,5,5,4,4,'HELLO','HELLO']"
   ]
  },
  {
   "cell_type": "code",
   "execution_count": 135,
   "id": "2e956bc9",
   "metadata": {},
   "outputs": [
    {
     "data": {
      "text/plain": [
       "{1, 2, 22, 4, 44, 5, 55, 'HELLO'}"
      ]
     },
     "execution_count": 135,
     "metadata": {},
     "output_type": "execute_result"
    }
   ],
   "source": [
    "set(mylist) #ME AGREGA MI LISTA SIN REPETIR VARIABLES"
   ]
  },
  {
   "cell_type": "markdown",
   "id": "ee2dfebf",
   "metadata": {},
   "source": [
    "# ----BOOLEANS----"
   ]
  },
  {
   "cell_type": "code",
   "execution_count": 136,
   "id": "882a3402",
   "metadata": {},
   "outputs": [],
   "source": [
    "# True or False"
   ]
  },
  {
   "cell_type": "code",
   "execution_count": 137,
   "id": "c718a571",
   "metadata": {},
   "outputs": [
    {
     "data": {
      "text/plain": [
       "True"
      ]
     },
     "execution_count": 137,
     "metadata": {},
     "output_type": "execute_result"
    }
   ],
   "source": [
    "1 < 2"
   ]
  },
  {
   "cell_type": "code",
   "execution_count": 138,
   "id": "0e0fc4fb",
   "metadata": {},
   "outputs": [],
   "source": [
    "b = None #ESTO ES PARA QUE NO TE DE 'TYPE ERROR'. POR SI EN UN FUTURO QUERES REGRESAR A ESTA NOTA Y ASIGNARLE ALGO."
   ]
  },
  {
   "cell_type": "code",
   "execution_count": 139,
   "id": "8edd9aab",
   "metadata": {},
   "outputs": [],
   "source": [
    "a = 1\n",
    "b = 3"
   ]
  },
  {
   "cell_type": "code",
   "execution_count": 140,
   "id": "835e9723",
   "metadata": {},
   "outputs": [
    {
     "data": {
      "text/plain": [
       "False"
      ]
     },
     "execution_count": 140,
     "metadata": {},
     "output_type": "execute_result"
    }
   ],
   "source": [
    "a == b #SI EL VALOR ES IGUAL DARA TRUE"
   ]
  },
  {
   "cell_type": "code",
   "execution_count": 141,
   "id": "67b5f64e",
   "metadata": {},
   "outputs": [
    {
     "data": {
      "text/plain": [
       "True"
      ]
     },
     "execution_count": 141,
     "metadata": {},
     "output_type": "execute_result"
    }
   ],
   "source": [
    "a != b #SI EL VALOR ES DIFERENTE DARA TRUE"
   ]
  },
  {
   "cell_type": "code",
   "execution_count": 142,
   "id": "754e4445",
   "metadata": {},
   "outputs": [
    {
     "data": {
      "text/plain": [
       "False"
      ]
     },
     "execution_count": 142,
     "metadata": {},
     "output_type": "execute_result"
    }
   ],
   "source": [
    "a > b #SI ES MAYOR DARA TRUE"
   ]
  },
  {
   "cell_type": "code",
   "execution_count": 143,
   "id": "1d233f27",
   "metadata": {},
   "outputs": [
    {
     "data": {
      "text/plain": [
       "True"
      ]
     },
     "execution_count": 143,
     "metadata": {},
     "output_type": "execute_result"
    }
   ],
   "source": [
    "a < b #SI ES MENOR DARA TRUE"
   ]
  },
  {
   "cell_type": "code",
   "execution_count": 144,
   "id": "1b8b1487",
   "metadata": {},
   "outputs": [
    {
     "data": {
      "text/plain": [
       "False"
      ]
     },
     "execution_count": 144,
     "metadata": {},
     "output_type": "execute_result"
    }
   ],
   "source": [
    "#RESOLVELO RESPONDIENDO EN TU MENTE SI ES TRUE O FALSE. LUEGO DALE shift+enter \n",
    "\n",
    "l_one = [1,2,[3,4]]\n",
    "l_two = [1,2,{'k1':4}]\n",
    "\n",
    "# True or False?\n",
    "l_one[2][0] >= l_two[2]['k1']"
   ]
  },
  {
   "cell_type": "code",
   "execution_count": 145,
   "id": "2bc3774b",
   "metadata": {},
   "outputs": [
    {
     "data": {
      "text/plain": [
       "True"
      ]
     },
     "execution_count": 145,
     "metadata": {},
     "output_type": "execute_result"
    }
   ],
   "source": [
    "1 == 1 and 2 == 2"
   ]
  },
  {
   "cell_type": "code",
   "execution_count": 2,
   "id": "3a6dcc67",
   "metadata": {},
   "outputs": [
    {
     "data": {
      "text/plain": [
       "False"
      ]
     },
     "execution_count": 2,
     "metadata": {},
     "output_type": "execute_result"
    }
   ],
   "source": [
    "1 == 1 and 2 != 2 #NECESITA QUE AMBOS SEAN CORRECTOS"
   ]
  },
  {
   "cell_type": "code",
   "execution_count": 147,
   "id": "c8fad0e3",
   "metadata": {},
   "outputs": [
    {
     "data": {
      "text/plain": [
       "True"
      ]
     },
     "execution_count": 147,
     "metadata": {},
     "output_type": "execute_result"
    }
   ],
   "source": [
    "1 == 1 or 2 != 2 #SOLO NECESITA QUE UNO SEA CORRECTO"
   ]
  },
  {
   "cell_type": "code",
   "execution_count": 4,
   "id": "02a93065",
   "metadata": {},
   "outputs": [
    {
     "data": {
      "text/plain": [
       "False"
      ]
     },
     "execution_count": 4,
     "metadata": {},
     "output_type": "execute_result"
    }
   ],
   "source": [
    "not 1 == 1  # 'not' HARA QUE OUTPUT FALSE SI LA CONDICION SE CUMPLE Y VICEVERSA"
   ]
  },
  {
   "cell_type": "markdown",
   "id": "02d57418",
   "metadata": {},
   "source": [
    "# ----FILES I/O----"
   ]
  },
  {
   "cell_type": "code",
   "execution_count": 149,
   "id": "5aafdb2e",
   "metadata": {},
   "outputs": [
    {
     "name": "stdout",
     "output_type": "stream",
     "text": [
      "Overwriting contentfile.txt\n"
     ]
    }
   ],
   "source": [
    "%%writefile contentfile.txt\n",
    "\n",
    "Here goes what I want to read later on\n",
    "Second line of text\n",
    "Third line of text."
   ]
  },
  {
   "cell_type": "code",
   "execution_count": 150,
   "id": "d0524387",
   "metadata": {},
   "outputs": [],
   "source": [
    "File = open('contentfile.txt')"
   ]
  },
  {
   "cell_type": "code",
   "execution_count": 151,
   "id": "6c5d3584",
   "metadata": {},
   "outputs": [
    {
     "data": {
      "text/plain": [
       "'C:\\\\Users\\\\lauta\\\\Python Stuff'"
      ]
     },
     "execution_count": 151,
     "metadata": {},
     "output_type": "execute_result"
    }
   ],
   "source": [
    "pwd #ESTO ES PARA VER EL DIRECTORIO EN EL QUE ESTOY"
   ]
  },
  {
   "cell_type": "code",
   "execution_count": 152,
   "id": "6ae1192f",
   "metadata": {},
   "outputs": [
    {
     "data": {
      "text/plain": [
       "'\\nHere goes what I want to read later on\\nSecond line of text\\nThird line of text.\\n'"
      ]
     },
     "execution_count": 152,
     "metadata": {},
     "output_type": "execute_result"
    }
   ],
   "source": [
    "File.read()  #PARA LEER TU FILE"
   ]
  },
  {
   "cell_type": "code",
   "execution_count": 153,
   "id": "8c371f2c",
   "metadata": {},
   "outputs": [
    {
     "data": {
      "text/plain": [
       "0"
      ]
     },
     "execution_count": 153,
     "metadata": {},
     "output_type": "execute_result"
    }
   ],
   "source": [
    "File.seek(0) #PARA OCULTAR TU FILE Y PODER VOLVER A EJECUTAR EL FILE.READ()"
   ]
  },
  {
   "cell_type": "code",
   "execution_count": 154,
   "id": "1e5424be",
   "metadata": {},
   "outputs": [],
   "source": [
    "Read = File.read()"
   ]
  },
  {
   "cell_type": "code",
   "execution_count": 155,
   "id": "346855bc",
   "metadata": {},
   "outputs": [],
   "source": [
    "End = File.seek(0)"
   ]
  },
  {
   "cell_type": "code",
   "execution_count": 156,
   "id": "692fe7e5",
   "metadata": {},
   "outputs": [],
   "source": [
    "Read_properly = File.readlines()"
   ]
  },
  {
   "cell_type": "code",
   "execution_count": 157,
   "id": "5497ca1d",
   "metadata": {},
   "outputs": [
    {
     "data": {
      "text/plain": [
       "'\\nHere goes what I want to read later on\\nSecond line of text\\nThird line of text.\\n'"
      ]
     },
     "execution_count": 157,
     "metadata": {},
     "output_type": "execute_result"
    }
   ],
   "source": [
    "Read"
   ]
  },
  {
   "cell_type": "code",
   "execution_count": 158,
   "id": "198f4751",
   "metadata": {},
   "outputs": [
    {
     "data": {
      "text/plain": [
       "0"
      ]
     },
     "execution_count": 158,
     "metadata": {},
     "output_type": "execute_result"
    }
   ],
   "source": [
    "End"
   ]
  },
  {
   "cell_type": "code",
   "execution_count": 159,
   "id": "daca6d92",
   "metadata": {},
   "outputs": [
    {
     "data": {
      "text/plain": [
       "['\\n',\n",
       " 'Here goes what I want to read later on\\n',\n",
       " 'Second line of text\\n',\n",
       " 'Third line of text.\\n']"
      ]
     },
     "execution_count": 159,
     "metadata": {},
     "output_type": "execute_result"
    }
   ],
   "source": [
    "Read_properly"
   ]
  },
  {
   "cell_type": "code",
   "execution_count": 160,
   "id": "ed0b45be",
   "metadata": {},
   "outputs": [],
   "source": [
    "Close = File.close()"
   ]
  },
  {
   "cell_type": "code",
   "execution_count": 161,
   "id": "c4a310be",
   "metadata": {},
   "outputs": [],
   "source": [
    "Close"
   ]
  },
  {
   "cell_type": "code",
   "execution_count": 162,
   "id": "a8a1d7a6",
   "metadata": {},
   "outputs": [
    {
     "name": "stdout",
     "output_type": "stream",
     "text": [
      "\n",
      "Here goes what I want to read later on\n",
      "Second line of text\n",
      "Third line of text.\n",
      "\n"
     ]
    }
   ],
   "source": [
    "with open('contentfile.txt' , mode='r') as f:      #Para leer un file que yo quiera\n",
    "    print(f.read())"
   ]
  },
  {
   "cell_type": "code",
   "execution_count": 163,
   "id": "4baaef18",
   "metadata": {},
   "outputs": [],
   "source": [
    "with open('contentfile.txt' , mode='a') as f:    #Para agregar texto al archivo\n",
    "    f.write('\\n Fourth line of text')"
   ]
  },
  {
   "cell_type": "code",
   "execution_count": 164,
   "id": "b088f186",
   "metadata": {},
   "outputs": [],
   "source": [
    "with open('NewFile.txt' , mode= 'w') as f:     #Para escribir un nuevo archivo con nuevas lineas\n",
    "    f.write('New file created'\n",
    "           '\\nSecond line'\n",
    "           '\\nThird line')"
   ]
  },
  {
   "cell_type": "code",
   "execution_count": 165,
   "id": "7173656c",
   "metadata": {},
   "outputs": [
    {
     "name": "stdout",
     "output_type": "stream",
     "text": [
      "New file created\n",
      "Second line\n",
      "Third line\n"
     ]
    }
   ],
   "source": [
    "with open('NewFile.txt' , mode='r') as f:\n",
    "    print(f.read())"
   ]
  },
  {
   "cell_type": "code",
   "execution_count": 166,
   "id": "4849afca",
   "metadata": {},
   "outputs": [],
   "source": [
    "# Windows_File = open(\"C:\\\\Users\\\\Username\\\\Folder\\\\test.txt\")\n",
    "\n",
    "#CODIGO PARA BUSCAR EL ARCHIVO QUE DESEAS Y SE ENCUENTRE EN UN DIRECTORIO DIFERENTE"
   ]
  },
  {
   "cell_type": "code",
   "execution_count": 167,
   "id": "5a5be580",
   "metadata": {},
   "outputs": [],
   "source": [
    "# MacOs or Linux File = open(\"/Users/YouUserName/Folder/myfile.txt\")\n",
    "\n",
    "#CODIGO PARA BUSCAR EL ARCHIVO QUE DESEAS Y SE ENCUENTRE EN UN DIRECOTRIO DIFERENTE"
   ]
  },
  {
   "cell_type": "markdown",
   "id": "785ea24d",
   "metadata": {},
   "source": [
    "# ----LOOPS----"
   ]
  },
  {
   "cell_type": "code",
   "execution_count": 168,
   "id": "cfbb7af6",
   "metadata": {},
   "outputs": [],
   "source": [
    "family_name = ['Lau Colugio','Mili Colugio','Ana Colugio','Berni Collado']"
   ]
  },
  {
   "cell_type": "code",
   "execution_count": 169,
   "id": "4a0f54ca",
   "metadata": {},
   "outputs": [
    {
     "name": "stdout",
     "output_type": "stream",
     "text": [
      "Lau Colugio\n",
      "Mili Colugio\n",
      "Ana Colugio\n",
      "Berni Collado is not our family.\n"
     ]
    }
   ],
   "source": [
    "for fam in family_name:\n",
    "    #Only family names\n",
    "    if fam == 'Lau Colugio':\n",
    "        print(fam)\n",
    "    elif fam == 'Mili Colugio':\n",
    "        print(fam)\n",
    "    elif fam == 'Ana Colugio':\n",
    "        print(fam)\n",
    "    else:\n",
    "        print(f'{fam} is not our family.')"
   ]
  },
  {
   "cell_type": "code",
   "execution_count": 170,
   "id": "5d256101",
   "metadata": {},
   "outputs": [],
   "source": [
    "mylist = list(range(1,9))"
   ]
  },
  {
   "cell_type": "code",
   "execution_count": 171,
   "id": "3aee8fb1",
   "metadata": {},
   "outputs": [
    {
     "name": "stdout",
     "output_type": "stream",
     "text": [
      "Odd number 1\n",
      "2\n",
      "Odd number 3\n",
      "4\n",
      "Odd number 5\n",
      "6\n",
      "Odd number 7\n",
      "8\n"
     ]
    }
   ],
   "source": [
    "for num in mylist:\n",
    "    #Only even numbers\n",
    "    if num % 2 == 0:\n",
    "        print(num)\n",
    "    else:\n",
    "        print(f'Odd number {num}')"
   ]
  },
  {
   "cell_type": "code",
   "execution_count": 172,
   "id": "1759e608",
   "metadata": {},
   "outputs": [
    {
     "name": "stdout",
     "output_type": "stream",
     "text": [
      "36\n"
     ]
    }
   ],
   "source": [
    "list_sum = 0\n",
    "\n",
    "for num in mylist:\n",
    "    list_sum = list_sum + num\n",
    "    \n",
    "print(list_sum)"
   ]
  },
  {
   "cell_type": "code",
   "execution_count": 173,
   "id": "4f91164b",
   "metadata": {},
   "outputs": [
    {
     "name": "stdout",
     "output_type": "stream",
     "text": [
      "H\n",
      "e\n",
      "l\n",
      "l\n",
      "o\n",
      " \n",
      "W\n",
      "o\n",
      "r\n",
      "l\n",
      "d\n"
     ]
    }
   ],
   "source": [
    "for letter in 'Hello World':\n",
    "    print(letter)"
   ]
  },
  {
   "cell_type": "code",
   "execution_count": 174,
   "id": "6d81a4e1",
   "metadata": {},
   "outputs": [
    {
     "name": "stdout",
     "output_type": "stream",
     "text": [
      "1\n",
      "3\n",
      "a\n",
      "c\n"
     ]
    }
   ],
   "source": [
    "tupple = [(1,2,3),('a','b','c')]\n",
    "\n",
    "for a,b,c in tupple:\n",
    "    print(a)\n",
    "    print(c)"
   ]
  },
  {
   "cell_type": "code",
   "execution_count": 175,
   "id": "bd50f4d7",
   "metadata": {},
   "outputs": [],
   "source": [
    "d = {'key1': 'value1', 'key2': 'value2', 'key3': 'value3'}"
   ]
  },
  {
   "cell_type": "code",
   "execution_count": 176,
   "id": "1ccba143",
   "metadata": {},
   "outputs": [
    {
     "name": "stdout",
     "output_type": "stream",
     "text": [
      "key1\n",
      "key2\n",
      "key3\n"
     ]
    }
   ],
   "source": [
    "for key,value in d.items():\n",
    "    print(key)"
   ]
  },
  {
   "cell_type": "code",
   "execution_count": 177,
   "id": "52570624",
   "metadata": {},
   "outputs": [
    {
     "name": "stdout",
     "output_type": "stream",
     "text": [
      "The current value of x is 0\n",
      "The current value of x is 1\n",
      "The current value of x is 2\n",
      "The current value of x is 3\n",
      "The current value of x is 4\n",
      "The current value of x is 5\n",
      "The current value isnt more 6\n"
     ]
    }
   ],
   "source": [
    "x = 0\n",
    "\n",
    "while x < 6:\n",
    "    print(f'The current value of x is {x}')\n",
    "    \n",
    "    x = x + 1\n",
    "else:\n",
    "    print(f'The current value isnt more {x}')"
   ]
  },
  {
   "cell_type": "code",
   "execution_count": 178,
   "id": "913cf764",
   "metadata": {},
   "outputs": [
    {
     "name": "stdout",
     "output_type": "stream",
     "text": [
      "end of my script\n"
     ]
    }
   ],
   "source": [
    "x = [1,2,3]                 #Pass se utiliza para pasar de un loop\n",
    "\n",
    "for item in x:\n",
    "    pass\n",
    "print('end of my script')"
   ]
  },
  {
   "cell_type": "code",
   "execution_count": 179,
   "id": "1173f9ef",
   "metadata": {},
   "outputs": [
    {
     "name": "stdout",
     "output_type": "stream",
     "text": [
      "S\n",
      "m\n",
      "m\n",
      "y\n"
     ]
    }
   ],
   "source": [
    "mystring = 'Sammy'         #Se utiliza para continuar sobre un resultado\n",
    "\n",
    "for letter in mystring:\n",
    "    if letter == 'a':\n",
    "        continue\n",
    "    print(letter)"
   ]
  },
  {
   "cell_type": "code",
   "execution_count": 180,
   "id": "33307565",
   "metadata": {},
   "outputs": [
    {
     "name": "stdout",
     "output_type": "stream",
     "text": [
      "The current value of x is 0\n",
      "The current value of x is 1\n",
      "The current value of x is 2\n"
     ]
    }
   ],
   "source": [
    "x = 0\n",
    "\n",
    "while x < 5:\n",
    "    if x == 3:\n",
    "        break\n",
    "    print(f'The current value of x is {x}')\n",
    "    \n",
    "    x = x + 1"
   ]
  },
  {
   "cell_type": "markdown",
   "id": "ab40d99a",
   "metadata": {},
   "source": [
    "Some Loops Excercises"
   ]
  },
  {
   "cell_type": "code",
   "execution_count": 181,
   "id": "bd9a8dec",
   "metadata": {},
   "outputs": [
    {
     "name": "stdout",
     "output_type": "stream",
     "text": [
      "Feed me!\n"
     ]
    }
   ],
   "source": [
    "hungry = True\n",
    "\n",
    "if hungry == True:\n",
    "    print('Feed me!')\n",
    "elif hungry == False:\n",
    "    print('Do not feed me!')\n",
    "else:\n",
    "    pass"
   ]
  },
  {
   "cell_type": "code",
   "execution_count": 182,
   "id": "e02853fe",
   "metadata": {},
   "outputs": [
    {
     "name": "stdout",
     "output_type": "stream",
     "text": [
      "Sorry I cant find that location\n"
     ]
    }
   ],
   "source": [
    "location = 'CINEMA'\n",
    "\n",
    "if location == 'autoshop':\n",
    "    print('Welcome to the autoshop')\n",
    "elif location == 'bank':\n",
    "    print('Welcome to the bank!')\n",
    "else:\n",
    "    print('Sorry I cant find that location')"
   ]
  },
  {
   "cell_type": "code",
   "execution_count": 183,
   "id": "09c599e3",
   "metadata": {},
   "outputs": [
    {
     "name": "stdout",
     "output_type": "stream",
     "text": [
      "Sorry whats your name? Kporex\n"
     ]
    }
   ],
   "source": [
    "name = 'Tony'\n",
    "\n",
    "if name == 'Lautaro':\n",
    "    print('Hello Lautaro')\n",
    "elif name == 'Mili':\n",
    "    print('Hello Mili')\n",
    "else:\n",
    "    input('Sorry whats your name?') "
   ]
  },
  {
   "cell_type": "markdown",
   "id": "afe64575",
   "metadata": {},
   "source": [
    "# ----USEFUL OPERATORS----"
   ]
  },
  {
   "cell_type": "code",
   "execution_count": 1,
   "id": "379a4341",
   "metadata": {},
   "outputs": [],
   "source": [
    "mylist = [1,2,3,4]"
   ]
  },
  {
   "cell_type": "code",
   "execution_count": 2,
   "id": "6a9ffce0",
   "metadata": {},
   "outputs": [
    {
     "name": "stdout",
     "output_type": "stream",
     "text": [
      "1\n",
      "2\n",
      "3\n",
      "4\n"
     ]
    }
   ],
   "source": [
    "for num in range(1,5):    #Range funciona como (start,stop,step)\n",
    "    print(num)"
   ]
  },
  {
   "cell_type": "code",
   "execution_count": 3,
   "id": "7761b6ee",
   "metadata": {},
   "outputs": [
    {
     "data": {
      "text/plain": [
       "[1, 3, 5, 7, 9, 11, 13, 15, 17, 19]"
      ]
     },
     "execution_count": 3,
     "metadata": {},
     "output_type": "execute_result"
    }
   ],
   "source": [
    "list(range(1,20,2))"
   ]
  },
  {
   "cell_type": "code",
   "execution_count": 4,
   "id": "70c75a6b",
   "metadata": {},
   "outputs": [
    {
     "name": "stdout",
     "output_type": "stream",
     "text": [
      "At index 0 the letter is a\n",
      "At index 1 the letter is b\n",
      "At index 2 the letter is c\n",
      "At index 3 the letter is d\n",
      "At index 4 the letter is e\n"
     ]
    }
   ],
   "source": [
    "index_count = 0\n",
    "\n",
    "for letter in 'abcde':\n",
    "    print('At index {} the letter is {}'.format(index_count,letter))\n",
    "    index_count += 1"
   ]
  },
  {
   "cell_type": "code",
   "execution_count": 5,
   "id": "67294722",
   "metadata": {},
   "outputs": [
    {
     "name": "stdout",
     "output_type": "stream",
     "text": [
      "a\n",
      "b\n",
      "c\n",
      "d\n",
      "e\n"
     ]
    }
   ],
   "source": [
    "index_count = 0\n",
    "word = 'abcde'\n",
    "\n",
    "for letter in word:\n",
    "    print(word[index_count])\n",
    "    index_count += 1"
   ]
  },
  {
   "cell_type": "code",
   "execution_count": 6,
   "id": "b3f17910",
   "metadata": {},
   "outputs": [
    {
     "name": "stdout",
     "output_type": "stream",
     "text": [
      "0\n",
      "a\n",
      "1\n",
      "b\n",
      "2\n",
      "c\n",
      "3\n",
      "e\n",
      "4\n",
      "d\n"
     ]
    }
   ],
   "source": [
    "word = 'abced'\n",
    "\n",
    "for index,letter in enumerate(word):\n",
    "    print(index)\n",
    "    print(letter)"
   ]
  },
  {
   "cell_type": "code",
   "execution_count": 7,
   "id": "a1c868e5",
   "metadata": {},
   "outputs": [],
   "source": [
    "mylist1 = [1,2,3]\n",
    "mylist2 = ['a','b','c']\n",
    "mylist3 = [100,200,300]"
   ]
  },
  {
   "cell_type": "code",
   "execution_count": 9,
   "id": "b6f1225d",
   "metadata": {},
   "outputs": [
    {
     "name": "stdout",
     "output_type": "stream",
     "text": [
      "1\n",
      "a\n",
      "100\n",
      "2\n",
      "b\n",
      "200\n",
      "3\n",
      "c\n",
      "300\n"
     ]
    }
   ],
   "source": [
    "for a,b,c in zip(mylist1,mylist2,mylist3):\n",
    "    print(a)\n",
    "    print(b)\n",
    "    print(c)"
   ]
  },
  {
   "cell_type": "code",
   "execution_count": 11,
   "id": "cece1608",
   "metadata": {},
   "outputs": [
    {
     "data": {
      "text/plain": [
       "[(1, 'a'), (2, 'b'), (3, 'c')]"
      ]
     },
     "execution_count": 11,
     "metadata": {},
     "output_type": "execute_result"
    }
   ],
   "source": [
    "list(zip(mylist1,mylist2))  #PARA CONVERTIR VARIAS LISTAS EN TUPPLE"
   ]
  },
  {
   "cell_type": "code",
   "execution_count": 12,
   "id": "4edab3a2",
   "metadata": {},
   "outputs": [
    {
     "data": {
      "text/plain": [
       "True"
      ]
     },
     "execution_count": 12,
     "metadata": {},
     "output_type": "execute_result"
    }
   ],
   "source": [
    "1 in mylist1"
   ]
  },
  {
   "cell_type": "code",
   "execution_count": 13,
   "id": "e179b0db",
   "metadata": {},
   "outputs": [
    {
     "data": {
      "text/plain": [
       "True"
      ]
     },
     "execution_count": 13,
     "metadata": {},
     "output_type": "execute_result"
    }
   ],
   "source": [
    "'x' in ['x','b','c']"
   ]
  },
  {
   "cell_type": "code",
   "execution_count": 14,
   "id": "66efb0bf",
   "metadata": {},
   "outputs": [],
   "source": [
    "d = {'key1': 345, 'key2': 459}"
   ]
  },
  {
   "cell_type": "code",
   "execution_count": 15,
   "id": "f3faf663",
   "metadata": {},
   "outputs": [
    {
     "data": {
      "text/plain": [
       "True"
      ]
     },
     "execution_count": 15,
     "metadata": {},
     "output_type": "execute_result"
    }
   ],
   "source": [
    "'key1' in d"
   ]
  },
  {
   "cell_type": "code",
   "execution_count": 16,
   "id": "ea5235c5",
   "metadata": {},
   "outputs": [
    {
     "data": {
      "text/plain": [
       "True"
      ]
     },
     "execution_count": 16,
     "metadata": {},
     "output_type": "execute_result"
    }
   ],
   "source": [
    "345 in d.values()"
   ]
  },
  {
   "cell_type": "code",
   "execution_count": 25,
   "id": "8d402332",
   "metadata": {},
   "outputs": [
    {
     "data": {
      "text/plain": [
       "False"
      ]
     },
     "execution_count": 25,
     "metadata": {},
     "output_type": "execute_result"
    }
   ],
   "source": [
    "'key1' in d.items()   #NO DARA TRUE NI PONIENDO VALUE O KEY"
   ]
  },
  {
   "cell_type": "code",
   "execution_count": 26,
   "id": "133d418a",
   "metadata": {},
   "outputs": [
    {
     "data": {
      "text/plain": [
       "False"
      ]
     },
     "execution_count": 26,
     "metadata": {},
     "output_type": "execute_result"
    }
   ],
   "source": [
    "345 in d.keys()"
   ]
  },
  {
   "cell_type": "code",
   "execution_count": 27,
   "id": "76300791",
   "metadata": {},
   "outputs": [],
   "source": [
    "mylist = [10,20,30,40,50,60,100]"
   ]
  },
  {
   "cell_type": "code",
   "execution_count": 28,
   "id": "0b59583a",
   "metadata": {},
   "outputs": [],
   "source": [
    "mynewlist = list(range(1,21))"
   ]
  },
  {
   "cell_type": "code",
   "execution_count": 29,
   "id": "36ffa8bd",
   "metadata": {},
   "outputs": [
    {
     "data": {
      "text/plain": [
       "1"
      ]
     },
     "execution_count": 29,
     "metadata": {},
     "output_type": "execute_result"
    }
   ],
   "source": [
    "min(mynewlist)"
   ]
  },
  {
   "cell_type": "code",
   "execution_count": 30,
   "id": "2927345c",
   "metadata": {},
   "outputs": [
    {
     "data": {
      "text/plain": [
       "20"
      ]
     },
     "execution_count": 30,
     "metadata": {},
     "output_type": "execute_result"
    }
   ],
   "source": [
    "max(mynewlist)"
   ]
  },
  {
   "cell_type": "code",
   "execution_count": 34,
   "id": "39023beb",
   "metadata": {},
   "outputs": [],
   "source": [
    "from random import shuffle"
   ]
  },
  {
   "cell_type": "code",
   "execution_count": 35,
   "id": "408246e9",
   "metadata": {},
   "outputs": [],
   "source": [
    "shuffle(mynewlist)"
   ]
  },
  {
   "cell_type": "code",
   "execution_count": 37,
   "id": "00c08078",
   "metadata": {},
   "outputs": [
    {
     "data": {
      "text/plain": [
       "[19, 14, 17, 7, 3, 12, 4, 10, 1, 15, 13, 6, 20, 5, 2, 16, 9, 8, 18, 11]"
      ]
     },
     "execution_count": 37,
     "metadata": {},
     "output_type": "execute_result"
    }
   ],
   "source": [
    "mynewlist"
   ]
  },
  {
   "cell_type": "code",
   "execution_count": 38,
   "id": "900688f0",
   "metadata": {},
   "outputs": [],
   "source": [
    "from random import randint"
   ]
  },
  {
   "cell_type": "code",
   "execution_count": 42,
   "id": "e167c37f",
   "metadata": {},
   "outputs": [],
   "source": [
    "ran = randint(0,100) #Te regresa un valor aleatorio entre [a y b]"
   ]
  },
  {
   "cell_type": "code",
   "execution_count": 43,
   "id": "90fdab72",
   "metadata": {},
   "outputs": [
    {
     "data": {
      "text/plain": [
       "65"
      ]
     },
     "execution_count": 43,
     "metadata": {},
     "output_type": "execute_result"
    }
   ],
   "source": [
    "ran"
   ]
  },
  {
   "cell_type": "code",
   "execution_count": 45,
   "id": "0e309c2c",
   "metadata": {},
   "outputs": [
    {
     "name": "stdout",
     "output_type": "stream",
     "text": [
      "Whats your name? Kpotim\n"
     ]
    }
   ],
   "source": [
    "name = input('Whats your name?')"
   ]
  },
  {
   "cell_type": "code",
   "execution_count": 46,
   "id": "50d4d12c",
   "metadata": {},
   "outputs": [
    {
     "name": "stdout",
     "output_type": "stream",
     "text": [
      "How old are you?20\n"
     ]
    }
   ],
   "source": [
    "age = int(input('How old are you?'))   #Es necesario el int (integer) porque siempre input te regresa algo como string."
   ]
  },
  {
   "cell_type": "markdown",
   "id": "595b1278",
   "metadata": {},
   "source": [
    "# ----LIST COMPREHENSION----"
   ]
  },
  {
   "cell_type": "code",
   "execution_count": 47,
   "id": "c2515c58",
   "metadata": {},
   "outputs": [],
   "source": [
    "myname = 'Lautaro'"
   ]
  },
  {
   "cell_type": "code",
   "execution_count": 48,
   "id": "f620270a",
   "metadata": {},
   "outputs": [],
   "source": [
    "mylist = []\n",
    "\n",
    "for letter in myname:\n",
    "    mylist.append(letter)"
   ]
  },
  {
   "cell_type": "code",
   "execution_count": 49,
   "id": "8835d940",
   "metadata": {},
   "outputs": [
    {
     "data": {
      "text/plain": [
       "['L', 'a', 'u', 't', 'a', 'r', 'o']"
      ]
     },
     "execution_count": 49,
     "metadata": {},
     "output_type": "execute_result"
    }
   ],
   "source": [
    "mylist"
   ]
  },
  {
   "cell_type": "code",
   "execution_count": 52,
   "id": "7c75a30d",
   "metadata": {},
   "outputs": [],
   "source": [
    "mylist = [letter for letter in myname] #ESTA ES UNA LIST COMPREHENSION"
   ]
  },
  {
   "cell_type": "code",
   "execution_count": 51,
   "id": "55d7dc49",
   "metadata": {},
   "outputs": [
    {
     "data": {
      "text/plain": [
       "['L', 'a', 'u', 't', 'a', 'r', 'o']"
      ]
     },
     "execution_count": 51,
     "metadata": {},
     "output_type": "execute_result"
    }
   ],
   "source": [
    "mylist"
   ]
  },
  {
   "cell_type": "code",
   "execution_count": 53,
   "id": "dc771bab",
   "metadata": {},
   "outputs": [],
   "source": [
    "mylist = [num**2 for num in range(0,11)]"
   ]
  },
  {
   "cell_type": "code",
   "execution_count": 54,
   "id": "7d7938c2",
   "metadata": {},
   "outputs": [
    {
     "data": {
      "text/plain": [
       "[0, 1, 4, 9, 16, 25, 36, 49, 64, 81, 100]"
      ]
     },
     "execution_count": 54,
     "metadata": {},
     "output_type": "execute_result"
    }
   ],
   "source": [
    "mylist"
   ]
  },
  {
   "cell_type": "code",
   "execution_count": 55,
   "id": "9a528e24",
   "metadata": {},
   "outputs": [],
   "source": [
    "mylist = [num**2 for num in range(0,11) if num%2==0]"
   ]
  },
  {
   "cell_type": "code",
   "execution_count": 56,
   "id": "63b6820a",
   "metadata": {},
   "outputs": [
    {
     "data": {
      "text/plain": [
       "[0, 4, 16, 36, 64, 100]"
      ]
     },
     "execution_count": 56,
     "metadata": {},
     "output_type": "execute_result"
    }
   ],
   "source": [
    "mylist"
   ]
  },
  {
   "cell_type": "code",
   "execution_count": 57,
   "id": "e68ec2c5",
   "metadata": {},
   "outputs": [],
   "source": [
    "celcius = [0,10,20,34.5]\n",
    "\n",
    "fahrenheit = [((9/5)*grados + 32) for grados in celcius]"
   ]
  },
  {
   "cell_type": "code",
   "execution_count": 58,
   "id": "1f6852d1",
   "metadata": {},
   "outputs": [
    {
     "data": {
      "text/plain": [
       "[32.0, 50.0, 68.0, 94.1]"
      ]
     },
     "execution_count": 58,
     "metadata": {},
     "output_type": "execute_result"
    }
   ],
   "source": [
    "fahrenheit"
   ]
  },
  {
   "cell_type": "code",
   "execution_count": 59,
   "id": "bc2e1be7",
   "metadata": {},
   "outputs": [],
   "source": [
    "fahrenheit = []\n",
    "\n",
    "for grados in celcius:\n",
    "    fahrenheit.append((9/5)*grados + 32)"
   ]
  },
  {
   "cell_type": "code",
   "execution_count": 60,
   "id": "a41c7f05",
   "metadata": {
    "scrolled": true
   },
   "outputs": [
    {
     "data": {
      "text/plain": [
       "[32.0, 50.0, 68.0, 94.1]"
      ]
     },
     "execution_count": 60,
     "metadata": {},
     "output_type": "execute_result"
    }
   ],
   "source": [
    "fahrenheit"
   ]
  },
  {
   "cell_type": "code",
   "execution_count": 61,
   "id": "a8f4c096",
   "metadata": {},
   "outputs": [],
   "source": [
    "mylist = []\n",
    "\n",
    "for x in [2,4,6,8]:\n",
    "    for y in [5,10,20]:\n",
    "        mylist.append(x*y)"
   ]
  },
  {
   "cell_type": "code",
   "execution_count": 62,
   "id": "1f140c4f",
   "metadata": {},
   "outputs": [
    {
     "data": {
      "text/plain": [
       "[10, 20, 40, 20, 40, 80, 30, 60, 120, 40, 80, 160]"
      ]
     },
     "execution_count": 62,
     "metadata": {},
     "output_type": "execute_result"
    }
   ],
   "source": [
    "mylist"
   ]
  },
  {
   "cell_type": "code",
   "execution_count": 65,
   "id": "255ab27f",
   "metadata": {},
   "outputs": [],
   "source": [
    "mylist = [x*y for x in [2,4,6,8] for y in [5,10,20,25]] #COMPREHENSION"
   ]
  },
  {
   "cell_type": "code",
   "execution_count": 64,
   "id": "94b87fd8",
   "metadata": {},
   "outputs": [
    {
     "data": {
      "text/plain": [
       "[10, 20, 40, 50, 20, 40, 80, 100, 30, 60, 120, 150, 40, 80, 160, 200]"
      ]
     },
     "execution_count": 64,
     "metadata": {},
     "output_type": "execute_result"
    }
   ],
   "source": [
    "mylist"
   ]
  },
  {
   "cell_type": "markdown",
   "id": "7bd40dbd",
   "metadata": {},
   "source": [
    "# ----FUNCTIONS----"
   ]
  },
  {
   "cell_type": "code",
   "execution_count": 66,
   "id": "d268bd7f",
   "metadata": {},
   "outputs": [],
   "source": [
    "def say_hello():\n",
    "    print('Hello')\n",
    "    print('how')"
   ]
  },
  {
   "cell_type": "code",
   "execution_count": 67,
   "id": "9425769a",
   "metadata": {},
   "outputs": [
    {
     "name": "stdout",
     "output_type": "stream",
     "text": [
      "Hello\n",
      "how\n"
     ]
    }
   ],
   "source": [
    "say_hello()"
   ]
  },
  {
   "cell_type": "code",
   "execution_count": 69,
   "id": "174a7c14",
   "metadata": {},
   "outputs": [],
   "source": [
    "def say_hello(name):\n",
    "    print(f'Hello {name}')"
   ]
  },
  {
   "cell_type": "code",
   "execution_count": 70,
   "id": "46afc6f5",
   "metadata": {},
   "outputs": [
    {
     "name": "stdout",
     "output_type": "stream",
     "text": [
      "Hello Mili\n"
     ]
    }
   ],
   "source": [
    "say_hello('Mili')"
   ]
  },
  {
   "cell_type": "code",
   "execution_count": 71,
   "id": "f15638a6",
   "metadata": {},
   "outputs": [],
   "source": [
    "def say_hello(name = 'Default'):\n",
    "    print(f'Hello {name}')"
   ]
  },
  {
   "cell_type": "code",
   "execution_count": 72,
   "id": "ea1a01a5",
   "metadata": {},
   "outputs": [
    {
     "name": "stdout",
     "output_type": "stream",
     "text": [
      "Hello Default\n"
     ]
    }
   ],
   "source": [
    "say_hello()"
   ]
  },
  {
   "cell_type": "code",
   "execution_count": 73,
   "id": "319346d2",
   "metadata": {},
   "outputs": [],
   "source": [
    "def add_num(num1,num2):\n",
    "    return num1+num2"
   ]
  },
  {
   "cell_type": "code",
   "execution_count": 75,
   "id": "d7a852d4",
   "metadata": {},
   "outputs": [
    {
     "data": {
      "text/plain": [
       "30"
      ]
     },
     "execution_count": 75,
     "metadata": {},
     "output_type": "execute_result"
    }
   ],
   "source": [
    "add_num(10,20)    #PUEDO AGREGARLE UNA VARIABLE PARA GUARDAR EL RESULTADO"
   ]
  },
  {
   "cell_type": "code",
   "execution_count": 79,
   "id": "75a05845",
   "metadata": {},
   "outputs": [],
   "source": [
    "def return_result(a,b):      #DIFERENCIA ENTRE PRINT Y RETURN:\n",
    "    return a + b"
   ]
  },
  {
   "cell_type": "code",
   "execution_count": 80,
   "id": "cb39755c",
   "metadata": {},
   "outputs": [],
   "source": [
    "def print_result(a,b):\n",
    "    print(a+b)"
   ]
  },
  {
   "cell_type": "code",
   "execution_count": 81,
   "id": "df3c962d",
   "metadata": {},
   "outputs": [
    {
     "name": "stdout",
     "output_type": "stream",
     "text": [
      "20\n"
     ]
    }
   ],
   "source": [
    "result = print_result(10,10)"
   ]
  },
  {
   "cell_type": "code",
   "execution_count": 83,
   "id": "ef588839",
   "metadata": {},
   "outputs": [],
   "source": [
    "result        #NO DEVUELVE NADA, NO SE PUEDE AGREGAR UNA VARIABLE A PRINT."
   ]
  },
  {
   "cell_type": "code",
   "execution_count": 84,
   "id": "3dc48e6f",
   "metadata": {},
   "outputs": [],
   "source": [
    "result = return_result(10,10)"
   ]
  },
  {
   "cell_type": "code",
   "execution_count": 85,
   "id": "aca0a858",
   "metadata": {},
   "outputs": [
    {
     "data": {
      "text/plain": [
       "20"
      ]
     },
     "execution_count": 85,
     "metadata": {},
     "output_type": "execute_result"
    }
   ],
   "source": [
    "result"
   ]
  },
  {
   "cell_type": "code",
   "execution_count": 86,
   "id": "1a109357",
   "metadata": {},
   "outputs": [],
   "source": [
    "def sum_numbers(num1,num2):\n",
    "    return num1+num2"
   ]
  },
  {
   "cell_type": "code",
   "execution_count": 87,
   "id": "5ad24cea",
   "metadata": {},
   "outputs": [
    {
     "data": {
      "text/plain": [
       "30"
      ]
     },
     "execution_count": 87,
     "metadata": {},
     "output_type": "execute_result"
    }
   ],
   "source": [
    "sum_numbers(10,20)"
   ]
  },
  {
   "cell_type": "code",
   "execution_count": 88,
   "id": "cec639ad",
   "metadata": {},
   "outputs": [
    {
     "data": {
      "text/plain": [
       "'1020'"
      ]
     },
     "execution_count": 88,
     "metadata": {},
     "output_type": "execute_result"
    }
   ],
   "source": [
    "sum_numbers('10','20')"
   ]
  },
  {
   "cell_type": "code",
   "execution_count": 89,
   "id": "76213c6a",
   "metadata": {},
   "outputs": [],
   "source": [
    "def even_num(num):\n",
    "    return num % 2 == 0"
   ]
  },
  {
   "cell_type": "code",
   "execution_count": 90,
   "id": "a35bb261",
   "metadata": {},
   "outputs": [],
   "source": [
    "def odd_num(num):\n",
    "    return num % 2 == 1"
   ]
  },
  {
   "cell_type": "code",
   "execution_count": 91,
   "id": "cf385288",
   "metadata": {},
   "outputs": [
    {
     "data": {
      "text/plain": [
       "True"
      ]
     },
     "execution_count": 91,
     "metadata": {},
     "output_type": "execute_result"
    }
   ],
   "source": [
    "even_num(2)"
   ]
  },
  {
   "cell_type": "code",
   "execution_count": 92,
   "id": "72faa332",
   "metadata": {},
   "outputs": [
    {
     "data": {
      "text/plain": [
       "False"
      ]
     },
     "execution_count": 92,
     "metadata": {},
     "output_type": "execute_result"
    }
   ],
   "source": [
    "odd_num(2)"
   ]
  },
  {
   "cell_type": "code",
   "execution_count": 93,
   "id": "77c1d823",
   "metadata": {},
   "outputs": [],
   "source": [
    "def even_check(lists):\n",
    "    # return true if any number is even inside a list\n",
    "    \n",
    "    for number in lists:\n",
    "        if number % 2 == 0:\n",
    "            return True\n",
    "        else:\n",
    "            pass\n",
    "    \n",
    "    return False"
   ]
  },
  {
   "cell_type": "code",
   "execution_count": 97,
   "id": "7ce73046",
   "metadata": {},
   "outputs": [
    {
     "data": {
      "text/plain": [
       "True"
      ]
     },
     "execution_count": 97,
     "metadata": {},
     "output_type": "execute_result"
    }
   ],
   "source": [
    "even_check([1,3,5,8])"
   ]
  },
  {
   "cell_type": "code",
   "execution_count": 100,
   "id": "d7e1dfae",
   "metadata": {},
   "outputs": [],
   "source": [
    "def even_check(lists):\n",
    "    # return all th even number or odd number on a list\n",
    "    \n",
    "    evenlist = []\n",
    "    oddlist  = []\n",
    "    \n",
    "    for num in lists:\n",
    "        if num % 2 == 0:\n",
    "            evenlist.append(num)\n",
    "        elif num % 2 == 1:\n",
    "            oddlist.append(num)\n",
    "        \n",
    "    print(f'The even num are {evenlist}')\n",
    "    print(f'The odd num are {oddlist}')"
   ]
  },
  {
   "cell_type": "code",
   "execution_count": 102,
   "id": "12a86c7e",
   "metadata": {},
   "outputs": [
    {
     "name": "stdout",
     "output_type": "stream",
     "text": [
      "The even num are [2, 4, 6, 8, 10, 12, 14, 16, 18, 20, 22, 24, 26, 28, 30, 32, 34, 36, 38, 40, 42, 44, 46, 48]\n",
      "The odd num are [1, 3, 5, 7, 9, 11, 13, 15, 17, 19, 21, 23, 25, 27, 29, 31, 33, 35, 37, 39, 41, 43, 45, 47, 49]\n"
     ]
    }
   ],
   "source": [
    "even_check(range(1,50))"
   ]
  },
  {
   "cell_type": "markdown",
   "id": "139c995b",
   "metadata": {},
   "source": [
    "# --TUPLE UNPACKING WITH FUNCTIONS--"
   ]
  },
  {
   "cell_type": "code",
   "execution_count": 134,
   "id": "ef05e55d",
   "metadata": {},
   "outputs": [],
   "source": [
    "stock_price = [('APPL',200),('GOOGL',1000),('SWAMP',800)]"
   ]
  },
  {
   "cell_type": "code",
   "execution_count": 104,
   "id": "51af6e7f",
   "metadata": {},
   "outputs": [
    {
     "name": "stdout",
     "output_type": "stream",
     "text": [
      "APPL\n",
      "200\n",
      "GOOGL\n",
      "400\n",
      "SWAMP\n",
      "500\n"
     ]
    }
   ],
   "source": [
    "for stock,value in stock_price:\n",
    "    print(stock)\n",
    "    print(value)"
   ]
  },
  {
   "cell_type": "code",
   "execution_count": 135,
   "id": "09c5020f",
   "metadata": {},
   "outputs": [],
   "source": [
    "def stock(a):\n",
    "    \n",
    "    current_price = 0 \n",
    "    name_of_stock = ''\n",
    "    \n",
    "    for stock,value in stock_price:\n",
    "        if value > current_price:\n",
    "            current_price = value\n",
    "            name_of_stock = stock\n",
    "        else:\n",
    "            pass\n",
    "    \n",
    "    #return the stock that has highest value\n",
    "    return (current_price,name_of_stock)"
   ]
  },
  {
   "cell_type": "code",
   "execution_count": 136,
   "id": "cc29ad31",
   "metadata": {},
   "outputs": [
    {
     "data": {
      "text/plain": [
       "(1000, 'GOOGL')"
      ]
     },
     "execution_count": 136,
     "metadata": {},
     "output_type": "execute_result"
    }
   ],
   "source": [
    "stock(stock_price)"
   ]
  },
  {
   "cell_type": "code",
   "execution_count": 137,
   "id": "20b0c897",
   "metadata": {},
   "outputs": [],
   "source": [
    "employee_work = [('Mili',240),('Ana',350),('Cuchi', 22),('Roberto',8),('Lautaro', 0)]"
   ]
  },
  {
   "cell_type": "code",
   "execution_count": 145,
   "id": "60636b15",
   "metadata": {},
   "outputs": [],
   "source": [
    "def check_employee(a):\n",
    "    \n",
    "    hours = 0\n",
    "    employee = ''\n",
    "    \n",
    "    for employees,hour in employee_work:\n",
    "        if hour > hours:\n",
    "            hours = hour\n",
    "            employee = employees\n",
    "        else:\n",
    "            pass\n",
    "        \n",
    "    return (employee,hours)"
   ]
  },
  {
   "cell_type": "code",
   "execution_count": 146,
   "id": "f5cea360",
   "metadata": {},
   "outputs": [
    {
     "data": {
      "text/plain": [
       "('Ana', 350)"
      ]
     },
     "execution_count": 146,
     "metadata": {},
     "output_type": "execute_result"
    }
   ],
   "source": [
    "check_employee(employee_work)"
   ]
  },
  {
   "cell_type": "code",
   "execution_count": 142,
   "id": "58c3fb08",
   "metadata": {},
   "outputs": [],
   "source": [
    "d = {'Mili': 2, 'Ana': 1}"
   ]
  },
  {
   "cell_type": "code",
   "execution_count": 149,
   "id": "1412916b",
   "metadata": {},
   "outputs": [],
   "source": [
    "def fam_name(a):\n",
    "    \n",
    "    name = ''\n",
    "    num = 0\n",
    "    \n",
    "    for names,value in d.items():\n",
    "        if value > num:\n",
    "            num = value\n",
    "            name = names\n",
    "        else: \n",
    "            pass\n",
    "    return (name,num)"
   ]
  },
  {
   "cell_type": "code",
   "execution_count": 150,
   "id": "b7d9ff4b",
   "metadata": {},
   "outputs": [
    {
     "data": {
      "text/plain": [
       "('Mili', 2)"
      ]
     },
     "execution_count": 150,
     "metadata": {},
     "output_type": "execute_result"
    }
   ],
   "source": [
    "fam_name(d)"
   ]
  },
  {
   "cell_type": "markdown",
   "id": "57582d23",
   "metadata": {},
   "source": [
    "# ----FUNCTIONS EXCERCISES----"
   ]
  },
  {
   "cell_type": "code",
   "execution_count": 151,
   "id": "95201ddd",
   "metadata": {},
   "outputs": [],
   "source": [
    "def myfunc(a,b,name):\n",
    "    if a <= b:\n",
    "        return (f'Hello {name}')\n",
    "    elif a >= b:\n",
    "        return (f'Goodbye {name}')"
   ]
  },
  {
   "cell_type": "code",
   "execution_count": 152,
   "id": "bcbb6964",
   "metadata": {},
   "outputs": [
    {
     "data": {
      "text/plain": [
       "'Hello Mili'"
      ]
     },
     "execution_count": 152,
     "metadata": {},
     "output_type": "execute_result"
    }
   ],
   "source": [
    "myfunc(5,10,'Mili')"
   ]
  },
  {
   "cell_type": "code",
   "execution_count": 153,
   "id": "a6fa4189",
   "metadata": {},
   "outputs": [
    {
     "data": {
      "text/plain": [
       "'Goodbye Mili'"
      ]
     },
     "execution_count": 153,
     "metadata": {},
     "output_type": "execute_result"
    }
   ],
   "source": [
    "myfunc(10,5,'Mili')"
   ]
  },
  {
   "cell_type": "markdown",
   "id": "4c81ab3c",
   "metadata": {},
   "source": [
    "# ----BALL GAME----"
   ]
  },
  {
   "cell_type": "code",
   "execution_count": 9,
   "id": "18b8638b",
   "metadata": {},
   "outputs": [],
   "source": [
    "from random import shuffle"
   ]
  },
  {
   "cell_type": "code",
   "execution_count": 10,
   "id": "eb89aae4",
   "metadata": {},
   "outputs": [],
   "source": [
    "def shuffle_list(mylist):\n",
    "    shuffle(mylist)\n",
    "    return mylist"
   ]
  },
  {
   "cell_type": "code",
   "execution_count": 11,
   "id": "50f54bc4",
   "metadata": {},
   "outputs": [],
   "source": [
    "mylist = [' ','O',' ']"
   ]
  },
  {
   "cell_type": "code",
   "execution_count": 12,
   "id": "f2212455",
   "metadata": {},
   "outputs": [
    {
     "data": {
      "text/plain": [
       "[' ', ' ', 'O']"
      ]
     },
     "execution_count": 12,
     "metadata": {},
     "output_type": "execute_result"
    }
   ],
   "source": [
    "shuffle_list(mylist)"
   ]
  },
  {
   "cell_type": "code",
   "execution_count": 13,
   "id": "91026888",
   "metadata": {},
   "outputs": [],
   "source": [
    "def player_guess():\n",
    "    \n",
    "    guess = ''\n",
    "    \n",
    "    while guess not in ['0','1','2']:\n",
    "        guess = input('Pick a number 0,1 or 2')\n",
    "    \n",
    "    return int(guess)"
   ]
  },
  {
   "cell_type": "code",
   "execution_count": 14,
   "id": "8b0d3bb4",
   "metadata": {},
   "outputs": [
    {
     "name": "stdout",
     "output_type": "stream",
     "text": [
      "Pick a number 0,1 or 22\n"
     ]
    },
    {
     "data": {
      "text/plain": [
       "2"
      ]
     },
     "execution_count": 14,
     "metadata": {},
     "output_type": "execute_result"
    }
   ],
   "source": [
    "player_guess()"
   ]
  },
  {
   "cell_type": "code",
   "execution_count": 27,
   "id": "6dd6744c",
   "metadata": {},
   "outputs": [],
   "source": [
    "def check_guess(mylist,guess):\n",
    "    if mylist[guess] == 'O':\n",
    "        print('Correct!')\n",
    "    else:\n",
    "        print('Wrong answer!')\n",
    "        print(mylist)"
   ]
  },
  {
   "cell_type": "code",
   "execution_count": 28,
   "id": "75df8a70",
   "metadata": {},
   "outputs": [
    {
     "name": "stdout",
     "output_type": "stream",
     "text": [
      "Pick a number 0,1 or 21\n",
      "Wrong answer!\n",
      "['O', ' ', ' ']\n"
     ]
    }
   ],
   "source": [
    "#INTIAL LIST\n",
    "mylist = [' ','O',' ']\n",
    "\n",
    "#SHUFFLE LIST\n",
    "mixedlist = shuffle_list(mylist)\n",
    "\n",
    "#PLAYER \n",
    "guess = player_guess()\n",
    "\n",
    "#CHECK_GUESS\n",
    "check_guess(mixedlist,guess)"
   ]
  },
  {
   "cell_type": "markdown",
   "id": "f87e410f",
   "metadata": {},
   "source": [
    "# ----*ARGS AND **KWARGS----"
   ]
  },
  {
   "cell_type": "code",
   "execution_count": 35,
   "id": "1ac31997",
   "metadata": {},
   "outputs": [],
   "source": [
    "def myfunc(*args):         #SE USAN PARA PODER METER VARIEDAD DE PARAMETROS.\n",
    "    return sum(args) * 0.05"
   ]
  },
  {
   "cell_type": "code",
   "execution_count": 36,
   "id": "498807ce",
   "metadata": {},
   "outputs": [
    {
     "data": {
      "text/plain": [
       "10.0"
      ]
     },
     "execution_count": 36,
     "metadata": {},
     "output_type": "execute_result"
    }
   ],
   "source": [
    "myfunc(10,20,30,40,100)"
   ]
  },
  {
   "cell_type": "code",
   "execution_count": 37,
   "id": "bca708d0",
   "metadata": {},
   "outputs": [],
   "source": [
    "def myfunc(*args):\n",
    "    for items in args:\n",
    "        print(items)"
   ]
  },
  {
   "cell_type": "code",
   "execution_count": 38,
   "id": "47e76564",
   "metadata": {},
   "outputs": [
    {
     "name": "stdout",
     "output_type": "stream",
     "text": [
      "1\n",
      "2\n",
      "3\n",
      "4\n",
      "5\n"
     ]
    }
   ],
   "source": [
    "myfunc(1,2,3,4,5)"
   ]
  },
  {
   "cell_type": "code",
   "execution_count": 45,
   "id": "7c280888",
   "metadata": {},
   "outputs": [],
   "source": [
    "def myfunc(**kwargs):  #LOS KWARGS SIRVE PARA QUE TE DEVUELVA LOS PARAMETROS EN FORMA DE DICCIONARIO\n",
    "    print(kwargs)"
   ]
  },
  {
   "cell_type": "code",
   "execution_count": 44,
   "id": "e43e3277",
   "metadata": {},
   "outputs": [
    {
     "name": "stdout",
     "output_type": "stream",
     "text": [
      "{'fruit': 'apple', 'veggie': 4.99, 'car': 'ferrari'}\n"
     ]
    }
   ],
   "source": [
    "myfunc(fruit = 'apple', veggie = 4.99, car = 'ferrari')"
   ]
  },
  {
   "cell_type": "code",
   "execution_count": 48,
   "id": "c8df970b",
   "metadata": {},
   "outputs": [],
   "source": [
    "def myfunc(*args,**kwargs):\n",
    "    \n",
    "    print(args)\n",
    "    print(kwargs)\n",
    "    \n",
    "    print('I would like {} {}'.format(args[0],kwargs['food']))"
   ]
  },
  {
   "cell_type": "code",
   "execution_count": 49,
   "id": "e49704cf",
   "metadata": {},
   "outputs": [
    {
     "name": "stdout",
     "output_type": "stream",
     "text": [
      "(10, 20, 30)\n",
      "{'cheese': 'veggie', 'food': 'tomatoes'}\n",
      "I would like 10 tomatoes\n"
     ]
    }
   ],
   "source": [
    "myfunc(10,20,30,cheese = 'veggie',food = 'tomatoes')"
   ]
  },
  {
   "cell_type": "code",
   "execution_count": null,
   "id": "2a12a2e4",
   "metadata": {},
   "outputs": [],
   "source": []
  }
 ],
 "metadata": {
  "kernelspec": {
   "display_name": "Python 3 (ipykernel)",
   "language": "python",
   "name": "python3"
  },
  "language_info": {
   "codemirror_mode": {
    "name": "ipython",
    "version": 3
   },
   "file_extension": ".py",
   "mimetype": "text/x-python",
   "name": "python",
   "nbconvert_exporter": "python",
   "pygments_lexer": "ipython3",
   "version": "3.9.12"
  }
 },
 "nbformat": 4,
 "nbformat_minor": 5
}

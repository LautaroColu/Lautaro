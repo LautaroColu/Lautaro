{
 "cells": [
  {
   "cell_type": "code",
   "execution_count": null,
   "id": "12ff9590",
   "metadata": {},
   "outputs": [],
   "source": [
    "num1 = int(input('Enter first number: '))\n",
    "num2 = int(input('Enter second number: '))\n",
    "op = input('Enter Operator')\n",
    "\n",
    "if op == '+':\n",
    "    print('The addition is', num1+num2)\n",
    "elif op == '-':\n",
    "    print('The addition is', num1-num2)\n",
    "elif op == '*':\n",
    "    print('The multiplication is', num1*num2)\n",
    "elif op == '/':\n",
    "    print('The division is', abs(num1/num2))\n",
    "elif op == '**':\n",
    "    print('The square root is', num1**num2)\n",
    "elif op == '//':\n",
    "    print('The round number is', num1//num2)\n",
    "else:\n",
    "    print('Invalid operator')"
   ]
  },
  {
   "cell_type": "code",
   "execution_count": null,
   "id": "f1720c5b",
   "metadata": {},
   "outputs": [],
   "source": []
  }
 ],
 "metadata": {
  "kernelspec": {
   "display_name": "Python 3 (ipykernel)",
   "language": "python",
   "name": "python3"
  },
  "language_info": {
   "codemirror_mode": {
    "name": "ipython",
    "version": 3
   },
   "file_extension": ".py",
   "mimetype": "text/x-python",
   "name": "python",
   "nbconvert_exporter": "python",
   "pygments_lexer": "ipython3",
   "version": "3.9.12"
  }
 },
 "nbformat": 4,
 "nbformat_minor": 5
}
